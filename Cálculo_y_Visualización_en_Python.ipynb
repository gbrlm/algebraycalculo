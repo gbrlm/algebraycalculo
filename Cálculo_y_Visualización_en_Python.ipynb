{
  "nbformat": 4,
  "nbformat_minor": 0,
  "metadata": {
    "colab": {
      "name": "Cálculo_y_Visualización_en_Python.ipynb",
      "provenance": [],
      "collapsed_sections": [
        "yO_f3juMMJzC",
        "Epj9shKbrXfU",
        "xK59TYoZwx2w"
      ]
    },
    "kernelspec": {
      "name": "python3",
      "display_name": "Python 3"
    },
    "language_info": {
      "name": "python"
    }
  },
  "cells": [
    {
      "cell_type": "markdown",
      "source": [
        "### NOTA: Para un mejor seguimiento de esta clase, es recomendable abrirla desde Colab, siguiendo el botón de abajo\n",
        "\n",
        "\n",
        "<a href=\"https://colab.research.google.com/drive/1a5gk6u37jbvEj5dHk2GzrvNN_r5wjVAh\" target=\"_parent\"><img src=\"https://colab.research.google.com/assets/colab-badge.svg\" alt=\"Open In Colab\"/></a>"
      ],
      "metadata": {
        "id": "3b3V4xf-9Ap5"
      }
    },
    {
      "cell_type": "markdown",
      "source": [
        "# Cálculo numérico con NumPy\n",
        "\n",
        "![numpylogo.svg](https://numpy.org/doc/stable/_static/numpylogo.svg)\n",
        "\n",
        "A continuación veremos algunas funciones matemáticas mediante el uso de NumPy.\n",
        "\n",
        "NumPy cuenta con un gran número de operaciones matemáticas, cuenta con funciones para operaciones aritméticas, funciones trigonométricas, funciones hiperbólicas, exponenciales, logaritmicas y muchas más.\n",
        "\n",
        "Recordando la definición de función en matemática, \n",
        "\n",
        "* Una **función** $f$ de $D$ en $I$ es una regla que asigna a cada elemento $x$ del conjunto $D$ un y sólo un elemento del conjunto $I$.\n",
        "\n",
        "Veremos algunos ejemplos de las funciones que incluye NumPy y otras que podemos definir mediante funciones de Python"
      ],
      "metadata": {
        "id": "gxRBTedXMPGT"
      }
    },
    {
      "cell_type": "code",
      "execution_count": null,
      "metadata": {
        "id": "OuJcBedVAwHJ"
      },
      "outputs": [],
      "source": [
        "import numpy as np\n",
        "import matplotlib.pyplot as plt"
      ]
    },
    {
      "cell_type": "markdown",
      "source": [
        "Algunas funciones que ya están incluidas en NumPy las pueden consultar en este link https://numpy.org/doc/stable/reference/routines.math.html"
      ],
      "metadata": {
        "id": "5AP1oF6FHWBL"
      }
    },
    {
      "cell_type": "markdown",
      "source": [
        "## Ejemplos de funciones con operaciones aritméticas"
      ],
      "metadata": {
        "id": "rrcgqQOpGs5V"
      }
    },
    {
      "cell_type": "code",
      "source": [
        "# tomo x un valor random para evaluar las próximas funciones\n",
        "x = np.random.random()"
      ],
      "metadata": {
        "id": "q8Getcg4oNr-"
      },
      "execution_count": null,
      "outputs": []
    },
    {
      "cell_type": "code",
      "source": [
        "# polinomio cuadrático\n",
        "q = x**2 + 5*x - 2\n",
        "\n",
        "# funciones racionales\n",
        "r = (x**3 + 2*x + 1)/(x**3 - 1)\n",
        "\n",
        "# función valor absoluto\n",
        "\n",
        "a = np.abs(x)\n",
        "\n",
        "# funciones que involucren raíces\n",
        "# casos particulares\n",
        "f1 = np.cbrt(10*x-1)\n",
        "g1 = np.sqrt(10*x)\n",
        "\n",
        "# más general usando la funcion power \n",
        "# (recordando que la raíz n-ésima es igual a elevar a la pontencia 1/n)\n",
        "f2 = np.power(10*x-1,1/3)\n",
        "g2 = np.power(10*x,1/2)"
      ],
      "metadata": {
        "id": "DPS3hSGKGFYh"
      },
      "execution_count": null,
      "outputs": []
    },
    {
      "cell_type": "markdown",
      "source": [
        "## Ejemplos de funciones trigonométricas"
      ],
      "metadata": {
        "id": "_Fn7sWOMqh5y"
      }
    },
    {
      "cell_type": "code",
      "source": [
        "x = (np.pi/3)*np.arange(4)"
      ],
      "metadata": {
        "id": "fPDXtfwaqnrj"
      },
      "execution_count": null,
      "outputs": []
    },
    {
      "cell_type": "code",
      "source": [
        "# recordar que los inputs deben ser en radianes\n",
        "s = np.sin(x)\n",
        "c = np.cos(x)\n",
        "t = np.tan(x)\n",
        "\n",
        "print(f'Valores de x:\\n {x}')\n",
        "print(f'Valores de sen(x):\\n {s}')\n",
        "print(f'Valores de con(x):\\n {c}')\n",
        "print(f'Valores de tan(x):\\n {t}')"
      ],
      "metadata": {
        "id": "EHLHvhbir6u4"
      },
      "execution_count": null,
      "outputs": []
    },
    {
      "cell_type": "markdown",
      "source": [
        "## Ejemplos de funciones hiperbólicas, exponenciales y logaritmos"
      ],
      "metadata": {
        "id": "RikP_NqfsXKJ"
      }
    },
    {
      "cell_type": "code",
      "source": [
        "x = np.linspace(0,10,5)"
      ],
      "metadata": {
        "id": "0Gu-6gmzsWVK"
      },
      "execution_count": null,
      "outputs": []
    },
    {
      "cell_type": "code",
      "source": [
        "sen_hip = np.sinh(x)\n",
        "tan_hip = np.tanh(x)\n",
        "exp_x = np.exp(x)\n",
        "log_nat = np.log(x)\n",
        "\n",
        "print(f'Valores de x:\\n {x}')\n",
        "print(f'Valores de senh(x):\\n {sen_hip}')\n",
        "print(f'Valores de tanh(x):\\n {tan_hip}')\n",
        "print(f'Valores de exp(x):\\n {exp_x}')\n",
        "print(f'Valores de ln(x):\\n {log_nat}')"
      ],
      "metadata": {
        "id": "m9r9MGPrHUss"
      },
      "execution_count": null,
      "outputs": []
    },
    {
      "cell_type": "markdown",
      "source": [
        "## Definir una función en partes\n",
        "\n",
        "Podemos definir una \"función a trozos\" es decir que aplique distintas \"reglas\" dependiendo de una condición sobre el valor de entrada"
      ],
      "metadata": {
        "id": "8OPUj7ybLdhZ"
      }
    },
    {
      "cell_type": "code",
      "source": [
        "# ejemplo de función definida a trozos (ejercicio 5.f de la guía)\n",
        "def f(x):\n",
        "  y = []\n",
        "  for i in  x: \n",
        "    if i <= 0:\n",
        "      y.append(i)\n",
        "    else:\n",
        "      y.append(i+1)\n",
        "  return y\n",
        "\n",
        "\n",
        "x = np.linspace(-3,3,4)\n",
        "y = f(x)\n",
        "\n",
        "print(f'Los valores de x son:\\n {x}')\n",
        "print(f'Los valores de f(x) son:\\n {y}')"
      ],
      "metadata": {
        "id": "S00N5co7LdSi"
      },
      "execution_count": null,
      "outputs": []
    },
    {
      "cell_type": "markdown",
      "source": [
        "# Algo de visualización\n",
        "\n",
        "![matplotliblogo.svg](https://upload.wikimedia.org/wikipedia/en/thumb/5/56/Matplotlib_logo.svg/300px-Matplotlib_logo.svg.png)\n",
        "\n",
        "Matplotlib es una de las librerías esenciales para gráficos en Python, una de las más básicas y en la que varias otras librerias de visualización están basadas. \n",
        "\n",
        "* Links a tutoriales: https://matplotlib.org/stable/tutorials/index\n",
        "* Recordatorios básicos: https://matplotlib.org/cheatsheets/"
      ],
      "metadata": {
        "id": "yO_f3juMMJzC"
      }
    },
    {
      "cell_type": "markdown",
      "source": [
        "## Lineplot\n",
        "\n",
        "Matplotlib para funciones de $R$ en $R$. \n",
        "\n",
        "Como cuando graficamos \"a mano\" una función recurrimos a dibujar en el plano un conjunto de pares de puntos $(x,f(x))$, con Matplotlib debemos hacer lo mismo."
      ],
      "metadata": {
        "id": "Epj9shKbrXfU"
      }
    },
    {
      "cell_type": "markdown",
      "source": [
        "En el estilo más simple, debemos darle a la función plot dos arrays conteniendo los valores donde evaluar la función y los valores funcionales."
      ],
      "metadata": {
        "id": "e2A0OxNS3I7E"
      }
    },
    {
      "cell_type": "code",
      "source": [
        "# generar una grilla en un intervalo [a,b] equiespaciada\n",
        "aa = -5\n",
        "bb = 5\n",
        "nn = 30\n",
        "x = np.linspace(aa,bb,nn)"
      ],
      "metadata": {
        "id": "eLFaa_kdMoQl"
      },
      "execution_count": null,
      "outputs": []
    },
    {
      "cell_type": "code",
      "source": [
        "# grafico de la tangente hiperbólica en el intervalo [-5,5]\n",
        "y = np.tanh(x)\n",
        "plt.plot(x,y)\n",
        "plt.show()"
      ],
      "metadata": {
        "id": "gYsRfyNzwY2E"
      },
      "execution_count": null,
      "outputs": []
    },
    {
      "cell_type": "markdown",
      "source": [
        "Esta función perteneces a la familia de las funciones sigmoides, muy utilizadas en ciencia de datos principalemten en el área de redes neuronales (https://en.wikipedia.org/wiki/Sigmoid_function)"
      ],
      "metadata": {
        "id": "_lv14oyDw4-J"
      }
    },
    {
      "cell_type": "markdown",
      "source": [
        "Podemos tambien mejorar un poco el gráfico"
      ],
      "metadata": {
        "id": "4poenb2Q4jXn"
      }
    },
    {
      "cell_type": "code",
      "source": [
        "fig = plt.figure(figsize=(10,6))\n",
        "y = np.tanh(x)\n",
        "plt.plot(x,y,label='Tangente hiperbólica')\n",
        "plt.xlabel('x')\n",
        "plt.ylabel('f(x)')\n",
        "plt.title('Gráfico con linea')\n",
        "plt.grid(True)\n",
        "plt.legend()\n",
        "fig.show()"
      ],
      "metadata": {
        "id": "iS5oYU8Dwk1h"
      },
      "execution_count": null,
      "outputs": []
    },
    {
      "cell_type": "markdown",
      "source": [
        "Otra forma de graficar"
      ],
      "metadata": {
        "id": "oNfvFZQywZ1N"
      }
    },
    {
      "cell_type": "code",
      "source": [
        "fig, ax = plt.subplots(2,1,figsize=(10,6))\n",
        "\n",
        "fig = plt.figure(figsize=(10,6))\n",
        "x=np.linspace(-3,3)\n",
        "\n",
        "ax[0].plot(x,np.sin(x))\n",
        "ax[0].set_xlabel('x')\n",
        "ax[0].set_ylabel('sen(x)')\n",
        "ax[0].set_title('Función seno')\n",
        "ax[0].legend(['sen'])\n",
        "\n",
        "ax[1].plot(x,np.cos(x))\n",
        "ax[1].set_xlabel('x')\n",
        "ax[1].set_ylabel('cos(x)')\n",
        "ax[1].set_title('Función coseno')\n",
        "ax[1].legend(['cos'])\n",
        "\n",
        "fig.show()"
      ],
      "metadata": {
        "id": "f-qKf9VIul21"
      },
      "execution_count": null,
      "outputs": []
    },
    {
      "cell_type": "markdown",
      "source": [
        "## Graficando algunos límites"
      ],
      "metadata": {
        "id": "xK59TYoZwx2w"
      }
    },
    {
      "cell_type": "markdown",
      "source": [
        "Veaos la aproximación de $\\pi$ por la serie de Gregory-Leibniz\n",
        "\n",
        "$\\pi = 4\\sum_{n=0} \\frac{(-1)^n}{2n+1}$"
      ],
      "metadata": {
        "id": "pF-7YQTqMx9M"
      }
    },
    {
      "cell_type": "code",
      "source": [
        "suma = 0\n",
        "serie = []\n",
        "idx = range(101)\n",
        "for n in idx:\n",
        "  s_n = (4*(-1.)**n)/(2*n+1)\n",
        "  suma = suma + s_n\n",
        "  serie.append(suma)\n",
        "\n",
        "fig, ax = plt.subplots(figsize=(10,6))\n",
        "\n",
        "ax.plot(idx,serie,label='serie')\n",
        "ax.plot(idx,np.pi*np.ones((len(idx),1)),'--r',label='valor de pi')\n",
        "ax.set_title('Aproximación de pi')\n",
        "ax.set_xlabel('Cantidad de términos')\n",
        "ax.grid(True)\n",
        "ax.legend()\n",
        "\n",
        "\n",
        "\n",
        "\n",
        "fig.show()\n"
      ],
      "metadata": {
        "id": "SG37ESZqMwGi"
      },
      "execution_count": null,
      "outputs": []
    },
    {
      "cell_type": "markdown",
      "source": [
        "Aproximación de $\\pi$ por los perímetros de polígonos interiores y exteriores\n",
        "\n",
        "![poligonos.png](https://upload.wikimedia.org/wikipedia/commons/thumb/c/c9/Archimedes_pi.svg/1920px-Archimedes_pi.svg.png)\n",
        "\n",
        "Si  llamamos $I_n$ y $C_n$ son los perímetros de polígonos inscriptos y circunscriptos en la circunferencia de radio unidad de $n$ lados, se puede ver que\n",
        "\n",
        "$$I_n < 2\\pi < C_n $$\n",
        "\n",
        "Además contamos con dos relaciones entre los perímetros que involucran a los polígonos de $n$ y de $2n$ lados.\n",
        "\n",
        "$$C_{2n} = \\frac{2 C_{n} I_{n}}{C_n + I_n}$$\n",
        "\n",
        "y\n",
        "\n",
        "\n",
        "$$ I_{2n} = \\sqrt{C_{2n} I_{n}} $$\n",
        "\n",
        "Por lo tanto, calculando la sucesión de valores de $I_n /2$ y $C_n/2$ podemos calcular una aproximación de $\\pi$"
      ],
      "metadata": {
        "id": "U7kzS6jYxN9Q"
      }
    },
    {
      "cell_type": "code",
      "source": [
        "I = [3*np.sqrt(3)/2]\n",
        "C = [6*np.sqrt(3)/2]\n",
        "n = [3]\n",
        "\n",
        "for i in range(6):\n",
        "  Cnew = (2*C[-1]*I[-1])/(C[-1] + I[-1])\n",
        "  C.append(Cnew)\n",
        "  Inew = np.sqrt(C[-1]*I[-1])\n",
        "  I.append(Inew)\n",
        "  n.append(3*2**(i+1))\n",
        "\n",
        "fig, ax = plt.subplots(figsize=(10,6))\n",
        "\n",
        "ax.semilogx(n,C,'-o',label='I_n')\n",
        "ax.semilogx(n,np.pi*np.ones((len(n),1)),'--r',label='valor de pi')\n",
        "ax.semilogx(n,I,'-o',label='C_n')\n",
        "ax.grid(True)\n",
        "ax.set_title('Aproximación de pi')\n",
        "ax.set_xlabel('Número de lados')\n",
        "ax.legend()\n",
        "fig.show()"
      ],
      "metadata": {
        "id": "FMYV9ngCxMqh"
      },
      "execution_count": null,
      "outputs": []
    },
    {
      "cell_type": "markdown",
      "source": [
        "Un algoritmo más eficiente"
      ],
      "metadata": {
        "id": "m99mPo2vQRM7"
      }
    },
    {
      "cell_type": "code",
      "source": [
        "y0 = np.sqrt(2)-1\n",
        "a0 = 6 -4*np.sqrt(2)\n",
        "\n",
        "def f(x):\n",
        "  return (1-x**4)**(1/4)\n",
        "\n",
        "idx = np.arange(6)\n",
        "\n",
        "serie = []\n",
        "for n in idx:\n",
        "  y1 = (1-f(y0))/(1+f(y0))\n",
        "  a1 = a0*(1+y1)**4 - 2**(2*n+3)*y1*(1+y1+y1**2)\n",
        "\n",
        "  serie.append(1/a1)\n",
        "  a0=a1\n",
        "  y0=y1\n",
        "\n",
        "\n",
        "fig, ax = plt.subplots(figsize=(10,6))\n",
        "\n",
        "ax.plot(idx,serie,label='serie')\n",
        "ax.plot(idx,np.pi*np.ones((len(idx),1)),label='valor de pi')\n",
        "ax.grid(True)\n",
        "ax.set_title('Aproximación de pi')\n",
        "ax.set_xlabel('Cantidad de términos')\n",
        "ax.legend()\n",
        "fig.show()"
      ],
      "metadata": {
        "id": "eWItI2HsRD7E"
      },
      "execution_count": null,
      "outputs": []
    },
    {
      "cell_type": "markdown",
      "source": [
        "# Integrales numéricas\n",
        "\n",
        "Veremos a continuación algunos métodos de integracion numérica, para esto utilizaremos SciPy otra librería científica, con gran cantidad de algoritmos matemáticos basados en NumPy.\n",
        "\n",
        "![scipi.svg](https://docs.scipy.org/doc/scipy-0.12.0/reference/_static/scipyshiny_small.png)\n",
        "\n",
        "\n",
        "https://docs.scipy.org/doc/scipy/tutorial/integrate.html\n"
      ],
      "metadata": {
        "id": "z21AZNyL5tTb"
      }
    },
    {
      "cell_type": "markdown",
      "source": [
        "**IMPORTANTE: CUIDADO CON LA VERSIÓN DE SCIPY A USAR, a continuación es para la versión 1.8.1**\n",
        "\n",
        " Métodos para calcular integrales de funciones dado el objeto.\n",
        "\n",
        "   * quad          -- General purpose integration.\n",
        "   * dblquad       -- General purpose double integration.\n",
        "   * tplquad       -- General purpose triple integration.\n",
        "   * fixed_quad    -- Integrate func(x) using Gaussian quadrature of order n.\n",
        "   * quadrature    -- Integrate with given tolerance using Gaussian quadrature.\n",
        "   * romberg       -- Integrate func using Romberg integration.\n",
        "\n",
        " Métodos para calcular integrales de funciones dado una lista de puntos.\n",
        "\n",
        "   * trapezoid            -- Use trapezoidal rule to compute integral.\n",
        "   * cumulative_trapezoid -- Use trapezoidal rule to cumulatively compute integral.\n",
        "   * simpson              -- Use Simpson's rule to compute integral from samples.\n",
        "   * romb                 -- Use Romberg Integration to compute integral from\n",
        " (2**k + 1) evenly-spaced samples."
      ],
      "metadata": {
        "id": "nKOutsHyz00T"
      }
    },
    {
      "cell_type": "code",
      "source": [
        "from scipy import integrate\n",
        "import numpy as np"
      ],
      "metadata": {
        "id": "xMZjYvilxe3c"
      },
      "execution_count": null,
      "outputs": []
    },
    {
      "cell_type": "markdown",
      "source": [
        "## Ejemplo de integral dada la función"
      ],
      "metadata": {
        "id": "Op7PBRcD0-eZ"
      }
    },
    {
      "cell_type": "markdown",
      "source": [
        "Calcular la integral definida de $\\sqrt{3x+1}$ de 1 a 4"
      ],
      "metadata": {
        "id": "1iQ34Hpo1oy1"
      }
    },
    {
      "cell_type": "code",
      "source": [
        "# defino la función\n",
        "def integrando(x):\n",
        "  return np.sqrt(3*x+1)\n",
        "\n",
        "I, err  = integrate.quad(integrando,1,4)\n",
        "\n",
        "print(f'Valor integral : {I}')\n",
        "print(f'Error estimado : {err}')"
      ],
      "metadata": {
        "id": "qjjCC9zJ5vP3"
      },
      "execution_count": null,
      "outputs": []
    },
    {
      "cell_type": "markdown",
      "source": [
        "## Ejemplo de intregral dada una lista de puntos\n",
        "\n",
        "Calcular la integral definida de $2^x$ de 1 a 2"
      ],
      "metadata": {
        "id": "wvSjWT6d2V-B"
      }
    },
    {
      "cell_type": "code",
      "source": [
        "# defino la función para generar la lista de puntos\n",
        "def f(x):\n",
        "  return np.power(2,x)\n",
        "\n",
        "# lista con 3 puntos entre 3 y 5\n",
        "x1 = np.linspace(1,2,3)\n",
        "y1 = f(x1)\n",
        "\n",
        "# lista con 10 puntos\n",
        "x2 = np.linspace(1,2,10)\n",
        "y2 = f(x2)\n",
        "\n",
        "# integral en la primer lista\n",
        "I1 = integrate.simps(y1,x1)\n",
        "I2 = integrate.simps(y2,x2)\n",
        "\n",
        "print(f'Valor de la integral evaluando en 3 puntos:\\n {I1}')\n",
        "print(f'Valor de la integral evaluando en 10 puntos:\\n {I2}')"
      ],
      "metadata": {
        "id": "uu6fqKRH1QPV"
      },
      "execution_count": null,
      "outputs": []
    },
    {
      "cell_type": "code",
      "source": [
        "import matplotlib.pyplot as plt\n",
        "# plot\n",
        "\n",
        "fig, ax = plt.subplots(figsize=(10,6))\n",
        "\n",
        "ax.plot(x2,y2,'.g',label='lista de 10 puntos')\n",
        "ax.plot(x1,y1,'ob',label='lista de 3 puntos')\n",
        "ax.grid(True)\n",
        "ax.set_title('Grafico de 2**x')\n",
        "ax.set_aspect('equal')\n",
        "fig.show()"
      ],
      "metadata": {
        "id": "czOLRYbO4Gbb"
      },
      "execution_count": null,
      "outputs": []
    },
    {
      "cell_type": "markdown",
      "source": [
        "# Más visualización ( Curvas de nivel y gráficos en 3D )\n",
        "Veremos ahora como graficar funciones de $R^2$ en $R$.\n",
        "\n",
        "Una manera de visualizarlas son las curvas de nivel."
      ],
      "metadata": {
        "id": "7eSlXVHlCUZW"
      }
    },
    {
      "cell_type": "code",
      "source": [
        "# definimos los nodos en cada uno de los ejes\n",
        "x=np.linspace(-3,3)\n",
        "y=np.linspace(-3,3)\n",
        "\n",
        "# creamos la mesh donde evaluar la función\n",
        "xmesh, ymesh = np.meshgrid(x,y)\n",
        "z = xmesh**2 + ymesh**2\n",
        "\n",
        "fig, ax = plt.subplots(figsize=(16,16))\n",
        "ax.set_aspect('equal')\n",
        "curvas = ax.contour(xmesh,ymesh,z,levels=np.linspace(.25, 20, 10))\n",
        "fig.colorbar(curvas, ax=ax)"
      ],
      "metadata": {
        "id": "nEZySzmsCT-d"
      },
      "execution_count": null,
      "outputs": []
    },
    {
      "cell_type": "markdown",
      "source": [
        "Graficos en 3D"
      ],
      "metadata": {
        "id": "T3JpD585EFq0"
      }
    },
    {
      "cell_type": "code",
      "source": [
        "from mpl_toolkits.mplot3d import Axes3D\n",
        "import matplotlib.pyplot as plt\n",
        "from matplotlib.ticker import LinearLocator, FormatStrFormatter\n",
        "\n",
        "\n",
        "fig = plt.figure(figsize=(16,9))\n",
        "ax = fig.gca(projection='3d')\n",
        "\n",
        "X = np.arange(-5, 5, 0.25)\n",
        "Y = np.arange(-5, 5, 0.25)\n",
        "X, Y = np.meshgrid(X, Y)\n",
        "R = np.sqrt(X**2 + Y**2)\n",
        "Z = np.sin(R)\n",
        "\n",
        "surf = ax.plot_surface(X, Y, Z,linewidth=0)\n",
        "ax.set_zlim(-1.01, 1.01)\n",
        "\n",
        "fig.colorbar(surf, shrink=0.5, aspect=5)\n",
        "\n",
        "plt.show()"
      ],
      "metadata": {
        "id": "SLFRte9dEECL"
      },
      "execution_count": null,
      "outputs": []
    }
  ]
}