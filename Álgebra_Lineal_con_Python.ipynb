{
  "nbformat": 4,
  "nbformat_minor": 0,
  "metadata": {
    "colab": {
      "name": "Álgebra Lineal con Python.ipynb",
      "provenance": [],
      "collapsed_sections": [
        "wIxRhBd1R_kL",
        "d_vVAtSESJw0",
        "cJXkf3ViWW1H"
      ]
    },
    "kernelspec": {
      "name": "python3",
      "display_name": "Python 3"
    },
    "language_info": {
      "name": "python"
    }
  },
  "cells": [
    {
      "cell_type": "markdown",
      "source": [
        "<a href=\"https://colab.research.google.com/drive/1rUkluWEPlrvJtl-p9D-dPJUy-tsiF9L-#scrollTo=UmyM1uNFyAEZ\" target=\"_parent\"><img src=\"https://colab.research.google.com/assets/colab-badge.svg\" alt=\"Open In Colab\"/></a>"
      ],
      "metadata": {
        "id": "YtbDHqYoyXiC"
      }
    },
    {
      "cell_type": "markdown",
      "source": [
        "# Comienzos con **NumPy**\n",
        "\n",
        "![numpylogo.svg](https://numpy.org/doc/stable/_static/numpylogo.svg)\n",
        "\n",
        "NumPy (Numerical Python) es una librería de Python que es usada en casi cualquier área de ciencias o ingenierías. La NumPy es el estándar para el trabajo con datos numéricos y es utilizado en muchas de las librerías de ciencia de datos como Pandas, SciPy, Matplotlib, Scikit-learn y muchas otras.\n",
        "\n",
        "La librería NumPy tiene un objeto principal: **ndarray** (array n-dimensional). Este objeto es un array multidimensional que contiene elementos del mismo tipo y tamaño, con métodos para operar eficientemente con ellos.\n",
        "\n",
        "Pueden encontrar más recursos educativos sobre el uso de esta librería en https://numpy.org/learn/ y más información sobre los objetos, funciones y módulos que contiene NumPy en https://numpy.org/doc/stable/reference/.\n",
        "\n"
      ],
      "metadata": {
        "id": "e879CKMkPtX7"
      }
    },
    {
      "cell_type": "code",
      "source": [
        "import numpy as np"
      ],
      "metadata": {
        "id": "9-cwOiJPTz8_"
      },
      "execution_count": 3,
      "outputs": []
    },
    {
      "cell_type": "markdown",
      "source": [
        "# Lo Básico\n",
        "\n",
        "Como ya dijimos, el objeto principal de NumPy son los arreglos multidimensionales homogeneos. Esto es una tabla (generalmente de números) indexada por números enteros no negativos.\n",
        "\n",
        "Estos arreglos (array) de NumPy son llamados [```ndarray```](https://numpy.org/doc/stable/reference/arrays.html) y algunos de sus principales atributos son:\n",
        "\n",
        "* ndim: devuelve la dimensión del array, es decir, número de ejes del array\n",
        "* shape: devuelve tupla con la forma del array, es decir, el tamaño del array en cada dimensión\n",
        "* size: devuelve el tamaño del array, es decir, la cantidad de elementos\n",
        "* dtype: cada ndarray tiene asociado un tipo de dato\n",
        "\n"
      ],
      "metadata": {
        "id": "R-CN9GUaT9QX"
      }
    },
    {
      "cell_type": "code",
      "source": [
        "a = np.array([[1,2,3],[4,5,6]])\n",
        "\n",
        "print(\"El array definido es:\")\n",
        "print(a)\n",
        "print(\"------\")\n",
        "print(f\"Dimensión: {a.ndim}\")\n",
        "print(f\"Shape: {a.shape}\")\n",
        "print(f\"Tamaño: {a.size}\")\n",
        "print(f\"Tipo de datos del array: {a.dtype}\")"
      ],
      "metadata": {
        "colab": {
          "base_uri": "https://localhost:8080/"
        },
        "id": "BOYbbsT2V4L6",
        "outputId": "3aaa5da2-75b8-489a-fc67-58f6d45f3563"
      },
      "execution_count": null,
      "outputs": [
        {
          "output_type": "stream",
          "name": "stdout",
          "text": [
            "El array definos es:\n",
            "[[1 2 3]\n",
            " [4 5 6]]\n",
            "------\n",
            "Dimensión: 2\n",
            "Shape: (2, 3)\n",
            "Tamaño: 6\n",
            "Tipo de datos del array: int64\n"
          ]
        }
      ]
    },
    {
      "cell_type": "markdown",
      "source": [
        "## Creación de Arrays"
      ],
      "metadata": {
        "id": "IKhaD8mvW6v4"
      }
    },
    {
      "cell_type": "markdown",
      "source": [
        "Hay varias maneras de crear los arrays en NumPy. \n",
        "\n",
        "La forma más básica es pasar como argumento una lista de listas:"
      ],
      "metadata": {
        "id": "r2EH5Sc3XEjP"
      }
    },
    {
      "cell_type": "code",
      "source": [
        "x = np.array([[1, 2, 3], [4, 5, 6]])\n",
        "print(x)"
      ],
      "metadata": {
        "colab": {
          "base_uri": "https://localhost:8080/"
        },
        "id": "nl_qkNlvW2K1",
        "outputId": "c0de3856-7723-44ac-de9a-d3b780caaa3b"
      },
      "execution_count": null,
      "outputs": [
        {
          "output_type": "stream",
          "name": "stdout",
          "text": [
            "[[1 2 3]\n",
            " [4 5 6]]\n"
          ]
        }
      ]
    },
    {
      "cell_type": "markdown",
      "source": [
        "Se puede inicializar como una tuplas de tuplas:\n",
        "\n"
      ],
      "metadata": {
        "id": "b2mkPgUCXtpf"
      }
    },
    {
      "cell_type": "code",
      "source": [
        "y = np.array(((1, 2, 3),(4, 5, 6)))\n",
        "print(y)"
      ],
      "metadata": {
        "colab": {
          "base_uri": "https://localhost:8080/"
        },
        "id": "JaMU6UNuXtYL",
        "outputId": "93f31c30-f0d2-4a9d-8e47-1089d4bf57f8"
      },
      "execution_count": null,
      "outputs": [
        {
          "output_type": "stream",
          "name": "stdout",
          "text": [
            "[[1 2 3]\n",
            " [4 5 6]]\n"
          ]
        }
      ]
    },
    {
      "cell_type": "markdown",
      "source": [
        "Se puede inicializar como una lista de tuplas:\n",
        "\n"
      ],
      "metadata": {
        "id": "926L9frtX6xj"
      }
    },
    {
      "cell_type": "code",
      "source": [
        "z = np.array([(1, 2, 3), (4, 5, 6)])\n",
        "print(z)"
      ],
      "metadata": {
        "colab": {
          "base_uri": "https://localhost:8080/"
        },
        "id": "lfhl1tO3W2Iu",
        "outputId": "3e51619f-8112-4036-810e-e8a66edbcb4f"
      },
      "execution_count": null,
      "outputs": [
        {
          "output_type": "stream",
          "name": "stdout",
          "text": [
            "[[1 2 3]\n",
            " [4 5 6]]\n"
          ]
        }
      ]
    },
    {
      "cell_type": "markdown",
      "source": [
        "Los tipos de datos del array resultantes se deducen del tipo de los elementos dados.\n",
        "Podemos forzar a que inicialice la lista con un tipo de datos específico:\n"
      ],
      "metadata": {
        "id": "vh5mP4UPYI2x"
      }
    },
    {
      "cell_type": "code",
      "source": [
        "# sin definir nada, en el siguiente ejemplo resulta un array de enteros\n",
        "x = np.array([[1, 2, 3], [4, 5, 6]])\n",
        "print(x)\n",
        "print(x.dtype)\n",
        "print('------')\n",
        "\n",
        "# se puede forzar para cambiar el tipo de dato a algouno específico \n",
        "x = np.array([[1, 2, 3], [4, 5, 6]], dtype=float)\n",
        "print(x)\n",
        "print(x.dtype)\n",
        "print('------')\n",
        "# o se puede definir el primer elemento como decimal\n",
        "x = np.array([[1., 2, 3], [4, 5, 6]])\n",
        "print(x)\n",
        "print(x.dtype)"
      ],
      "metadata": {
        "colab": {
          "base_uri": "https://localhost:8080/"
        },
        "id": "uTy2nTAUW2GS",
        "outputId": "62809c9d-5d1e-4b0e-b1e2-429ea25b6d0e"
      },
      "execution_count": null,
      "outputs": [
        {
          "output_type": "stream",
          "name": "stdout",
          "text": [
            "[[1 2 3]\n",
            " [4 5 6]]\n",
            "int64\n",
            "------\n",
            "[[1. 2. 3.]\n",
            " [4. 5. 6.]]\n",
            "float64\n",
            "------\n",
            "[[1. 2. 3.]\n",
            " [4. 5. 6.]]\n",
            "float64\n"
          ]
        }
      ]
    },
    {
      "cell_type": "markdown",
      "source": [
        "## Numpy Arrays con Contenido Inicial\n",
        "Muchas veces se desea crear un array que se desconocen los valores, pero se conoce su tamaño. Para esto existen funciones para crear arrays con marcadores de forma eficiente.\n",
        "\n",
        "Tener en cuenta que siempre se inicializan como float!"
      ],
      "metadata": {
        "id": "Bywd5f-oZkEA"
      }
    },
    {
      "cell_type": "code",
      "source": [
        "# array de ceros\n",
        "np.zeros((3,3))"
      ],
      "metadata": {
        "colab": {
          "base_uri": "https://localhost:8080/"
        },
        "id": "kcGQO6dMW2EG",
        "outputId": "adb919ac-daa8-463e-f6fb-1ae4991449c3"
      },
      "execution_count": null,
      "outputs": [
        {
          "output_type": "execute_result",
          "data": {
            "text/plain": [
              "array([[0., 0., 0.],\n",
              "       [0., 0., 0.],\n",
              "       [0., 0., 0.]])"
            ]
          },
          "metadata": {},
          "execution_count": 7
        }
      ]
    },
    {
      "cell_type": "code",
      "source": [
        "# array de unos\n",
        "np.ones((3,3))"
      ],
      "metadata": {
        "colab": {
          "base_uri": "https://localhost:8080/"
        },
        "id": "7QcICoc3W2Br",
        "outputId": "cc761b87-11cf-4e23-ba21-98df0e88b00a"
      },
      "execution_count": null,
      "outputs": [
        {
          "output_type": "execute_result",
          "data": {
            "text/plain": [
              "array([[1., 1., 1.],\n",
              "       [1., 1., 1.],\n",
              "       [1., 1., 1.]])"
            ]
          },
          "metadata": {},
          "execution_count": 8
        }
      ]
    },
    {
      "cell_type": "code",
      "source": [
        "# matriz identidad\n",
        "np.eye(3)"
      ],
      "metadata": {
        "colab": {
          "base_uri": "https://localhost:8080/"
        },
        "id": "Y4Y9kRMVYh1v",
        "outputId": "41dc3071-82f7-4591-8a94-12cf1d6ef708"
      },
      "execution_count": 4,
      "outputs": [
        {
          "output_type": "execute_result",
          "data": {
            "text/plain": [
              "array([[1., 0., 0.],\n",
              "       [0., 1., 0.],\n",
              "       [0., 0., 1.]])"
            ]
          },
          "metadata": {},
          "execution_count": 4
        }
      ]
    },
    {
      "cell_type": "code",
      "source": [
        "# creación de un array de 1 dimension con secuencia de datos:\n",
        "np.array(np.arange(1,10))\n"
      ],
      "metadata": {
        "colab": {
          "base_uri": "https://localhost:8080/"
        },
        "id": "bnW1aYyGW1-8",
        "outputId": "ca708e10-9d74-467b-bce9-c0f293907e63"
      },
      "execution_count": null,
      "outputs": [
        {
          "output_type": "execute_result",
          "data": {
            "text/plain": [
              "array([1, 2, 3, 4, 5, 6, 7, 8, 9])"
            ]
          },
          "metadata": {},
          "execution_count": 9
        }
      ]
    },
    {
      "cell_type": "code",
      "source": [
        "# creación de un array multidimensional con secuencia de datos:\n",
        "print(\"Array de una dimensión:\")\n",
        "print(np.arange(1,13))\n",
        "print(f'size: {np.arange(1,13).size}')\n",
        "print(f'shape: {np.arange(1,13).shape}')\n",
        "print(\"\")\n",
        "print(\"Array de dos dimensiones:\")\n",
        "print(np.arange(1,13).reshape(3,4))\n",
        "print(f'size: {np.arange(1,13).reshape(3,4).size}')\n",
        "print(f'shape: {np.arange(1,13).reshape(3,4).shape}')\n",
        "\n",
        "print(\"\")\n",
        "print(\"Array de tres dimensiones:\")\n",
        "print(np.arange(1,13).reshape(3,2,2))\n",
        "print(f'size: {np.arange(1,13).reshape(3,2,2).size}')\n",
        "print(f'shape: {np.arange(1,13).reshape(3,2,2).shape}')\n"
      ],
      "metadata": {
        "colab": {
          "base_uri": "https://localhost:8080/"
        },
        "id": "PdXtLtN6W18M",
        "outputId": "9e1b868b-fb15-4430-f987-769db243cfe7"
      },
      "execution_count": null,
      "outputs": [
        {
          "output_type": "stream",
          "name": "stdout",
          "text": [
            "Array de una dimensión:\n",
            "[ 1  2  3  4  5  6  7  8  9 10 11 12]\n",
            "size: 12\n",
            "shape: (12,)\n",
            "\n",
            "Array de dos dimensiones:\n",
            "[[ 1  2  3  4]\n",
            " [ 5  6  7  8]\n",
            " [ 9 10 11 12]]\n",
            "size: 12\n",
            "shape: (3, 4)\n",
            "\n",
            "Array de tres dimensiones:\n",
            "[[[ 1  2]\n",
            "  [ 3  4]]\n",
            "\n",
            " [[ 5  6]\n",
            "  [ 7  8]]\n",
            "\n",
            " [[ 9 10]\n",
            "  [11 12]]]\n",
            "size: 12\n",
            "shape: (3, 2, 2)\n"
          ]
        }
      ]
    },
    {
      "cell_type": "code",
      "source": [
        "# crear un array usando linspace \n",
        "np.linspace(0,10,3) # trés numeros de 0 a 10"
      ],
      "metadata": {
        "colab": {
          "base_uri": "https://localhost:8080/"
        },
        "id": "CcWs0ZxrW15Q",
        "outputId": "7d634921-3ef4-47d2-c7b3-cdaa9703396e"
      },
      "execution_count": null,
      "outputs": [
        {
          "output_type": "execute_result",
          "data": {
            "text/plain": [
              "array([ 0.,  5., 10.])"
            ]
          },
          "metadata": {},
          "execution_count": 11
        }
      ]
    },
    {
      "cell_type": "code",
      "source": [
        "# crear un array con valores random\n",
        "np.random.random((2,4)) # array con valores pseudo aleatorios con distribución uniforme en [0,1)"
      ],
      "metadata": {
        "colab": {
          "base_uri": "https://localhost:8080/"
        },
        "id": "-uM7eUrJeU9c",
        "outputId": "e4ddeef8-e94d-4e94-b67d-8ec71fd353ac"
      },
      "execution_count": null,
      "outputs": [
        {
          "output_type": "execute_result",
          "data": {
            "text/plain": [
              "array([[0.6657512 , 0.66953147, 0.79874205, 0.65553406],\n",
              "       [0.15536032, 0.4255711 , 0.93850436, 0.17035217]])"
            ]
          },
          "metadata": {},
          "execution_count": 12
        }
      ]
    },
    {
      "cell_type": "markdown",
      "source": [
        "# Operaciones Básicas"
      ],
      "metadata": {
        "id": "T6n46txCgRaI"
      }
    },
    {
      "cell_type": "markdown",
      "source": [
        "## Operaciones Aritméticas\n",
        "* Suma, resta o multiplicación por un escalar:"
      ],
      "metadata": {
        "id": "5kCywsp2hEbH"
      }
    },
    {
      "cell_type": "code",
      "source": [
        "A = np.arange(1,9).reshape(2,4)\n",
        "print(f'Array orginal: A =\\n {A}')\n",
        "print('')\n",
        "\n",
        "print(f'Suma por un escalar: A+2 =\\n {A+2}')\n",
        "print('')\n",
        "\n",
        "print(f'Suma por un escalar: A-1.5 =\\n {A-1.5}')\n",
        "print('')\n",
        "\n",
        "print(f'multiplicar por un escalar: 3*A =\\n {3*A}')\n",
        "print('')\n",
        "\n"
      ],
      "metadata": {
        "colab": {
          "base_uri": "https://localhost:8080/"
        },
        "id": "ojqWSaqEeb0z",
        "outputId": "24eabe3e-56e0-45a0-b408-71c90c0b9646"
      },
      "execution_count": null,
      "outputs": [
        {
          "output_type": "stream",
          "name": "stdout",
          "text": [
            "Array orginal: A =\n",
            " [[1 2 3 4]\n",
            " [5 6 7 8]]\n",
            "\n",
            "Suma por un escalar: A+2 =\n",
            " [[ 3  4  5  6]\n",
            " [ 7  8  9 10]]\n",
            "\n",
            "Suma por un escalar: A-1.5 =\n",
            " [[-0.5  0.5  1.5  2.5]\n",
            " [ 3.5  4.5  5.5  6.5]]\n",
            "\n",
            "multiplicar por un escalar: 3*A =\n",
            " [[ 3  6  9 12]\n",
            " [15 18 21 24]]\n",
            "\n"
          ]
        }
      ]
    },
    {
      "cell_type": "markdown",
      "source": [
        "## Funciones Universales: ufunc\n",
        "Es una función que opera elemento a elemento. Esto quiere decir que actúa individualmente sobre cada elemento y genera un resultado. Para más información revisar documentación en Numpy: https://numpy.org/doc/stable/reference/ufuncs.html"
      ],
      "metadata": {
        "id": "wIxRhBd1R_kL"
      }
    },
    {
      "cell_type": "code",
      "source": [
        "a = np.arange(1, 5)\n",
        "print(a)\n",
        "print(f\"Raíz cuadrada: {np.sqrt(a)} \")\n",
        "print(f\"Logaritmo: {np.log(a)} \")\n",
        "print(f\"Seno: {np.sin(a)} \")\n",
        "print(f\"Coseno: {np.cos(a)} \")"
      ],
      "metadata": {
        "colab": {
          "base_uri": "https://localhost:8080/"
        },
        "id": "RpO2BWR2SDC3",
        "outputId": "0fd76158-08fb-48f5-8aea-78712931eb70"
      },
      "execution_count": null,
      "outputs": [
        {
          "output_type": "stream",
          "name": "stdout",
          "text": [
            "[1 2 3 4]\n",
            "Raíz cuadrada: [1.         1.41421356 1.73205081 2.        ] \n",
            "Logaritmo: [0.         0.69314718 1.09861229 1.38629436] \n",
            "Seno: [ 0.84147098  0.90929743  0.14112001 -0.7568025 ] \n",
            "Coseno: [ 0.54030231 -0.41614684 -0.9899925  -0.65364362] \n"
          ]
        }
      ]
    },
    {
      "cell_type": "markdown",
      "source": [
        "## Funciones de Agregación\n",
        "Las funciones de agregación realizan una operación sobre un conjunto de valores y producen un solo resultado."
      ],
      "metadata": {
        "id": "d_vVAtSESJw0"
      }
    },
    {
      "cell_type": "code",
      "source": [
        "a = np.array([3.3, 4.5, 1.2, 5.7, 0.3])\n",
        "print(f\"Array: {a}\")\n",
        "print(f\"Suma de todos los elementos: {a.sum()}\")\n",
        "print(f\"El mínimo valor: {a.min()}\")\n",
        "print(f\"El máximo valor: {a.max()}\")\n",
        "print(f\"La media: {a.mean()}\")\n",
        "print(f\"La desviación estándar: {a.std()}\")"
      ],
      "metadata": {
        "colab": {
          "base_uri": "https://localhost:8080/"
        },
        "id": "EJV7S5hsSO39",
        "outputId": "b10572b0-cf6d-40c8-eed5-350a4697a59f"
      },
      "execution_count": null,
      "outputs": [
        {
          "output_type": "stream",
          "name": "stdout",
          "text": [
            "Array: [3.3 4.5 1.2 5.7 0.3]\n",
            "Suma de todos los elementos: 15.0\n",
            "El mínimo valor: 0.3\n",
            "El máximo valor: 5.7\n",
            "La media: 3.0\n",
            "La desviación estándar: 2.0079840636817816\n"
          ]
        }
      ]
    },
    {
      "cell_type": "markdown",
      "source": [
        "## Indexación y subarrays"
      ],
      "metadata": {
        "id": "cJXkf3ViWW1H"
      }
    },
    {
      "cell_type": "markdown",
      "source": [
        "* Arrays de una dimensión\n"
      ],
      "metadata": {
        "id": "jCpERAIbWr2b"
      }
    },
    {
      "cell_type": "code",
      "source": [
        "a = np.arange(0, 6)\n",
        "print(f'Todo el array: {a}')\n",
        "print(f'El tercer elemento del array a[02]: {a[2]}')\n",
        "print(f'Del segundo al quinto elemento del array: {a[1:5]}')\n",
        "print(f'Del cuarto elemento hasta el final del array: {a[3::]}')\n",
        "\n"
      ],
      "metadata": {
        "colab": {
          "base_uri": "https://localhost:8080/"
        },
        "id": "eO7gsmDdWkED",
        "outputId": "2075dd24-58d3-4561-b3e1-fe0caa4b580a"
      },
      "execution_count": null,
      "outputs": [
        {
          "output_type": "stream",
          "name": "stdout",
          "text": [
            "Todo el array: [0 1 2 3 4 5]\n",
            "El tercer elemento del array: 2\n",
            "Del segundo al quinto elemento del array: [1 2 3 4]\n",
            "Del cuarto elemento hasta el final del array: [3 4 5]\n"
          ]
        }
      ]
    },
    {
      "cell_type": "markdown",
      "source": [
        "* Arrays de dos dimensiones"
      ],
      "metadata": {
        "id": "96HD-lLHWyp_"
      }
    },
    {
      "cell_type": "code",
      "source": [
        "A = np.arange(10, 19).reshape((3, 3))\n",
        "print(f'Todo el array:\\n A=\\n {A}')\n",
        "print(f\"Solo la primera fila: \\n A[0,:]= {A[0,:]}\")\n",
        "print(f\"Solo la primera columna: \\n A[:,0]= {A[:,0]}\")\n",
        "print(f\"Sub matrix: \\n A[0:2, 0:2]=\\n {A[0:2, 0:2]}\")\n",
        "print(f\"Sub matrix sin índices contiguos pasamos lista de índices: \\nA[[0,2], 0:2]=\\n  {A[[0,2], 0:2]}\")"
      ],
      "metadata": {
        "colab": {
          "base_uri": "https://localhost:8080/"
        },
        "id": "zOKzCcLxW02l",
        "outputId": "004bca6a-aa3a-4ff0-e452-a6c4d9febdcf"
      },
      "execution_count": null,
      "outputs": [
        {
          "output_type": "stream",
          "name": "stdout",
          "text": [
            "Todo el array:\n",
            " A=\n",
            " [[10 11 12]\n",
            " [13 14 15]\n",
            " [16 17 18]]\n",
            "Solo la primera fila: \n",
            " A[0,:]= [10 11 12]\n",
            "Solo la primera columna: \n",
            " A[:,0]= [10 13 16]\n",
            "Sub matrix: \n",
            " A[0:2, 0:2]=\n",
            " [[10 11]\n",
            " [13 14]]\n",
            "Sub matrix sin índices contiguos pasamos lista de índices: \n",
            "A[[0,2], 0:2]=\n",
            "  [[10 11]\n",
            " [16 17]]\n"
          ]
        }
      ]
    },
    {
      "cell_type": "markdown",
      "source": [
        "# Álgebra Lineal en Python y el submodulo linalg de Numpy\n",
        "\n",
        "En NumPy tenemos el submodulo  [```linalg```](https://numpy.org/doc/stable/reference/routines.linalg.html) con varias funciones para el trabajo de álgebra lineal con arrays."
      ],
      "metadata": {
        "id": "Ya8vTNloSSPI"
      }
    },
    {
      "cell_type": "markdown",
      "source": [
        "## Producto matricial y el operador ```@```"
      ],
      "metadata": {
        "id": "gO3M90pBi45v"
      }
    },
    {
      "cell_type": "code",
      "source": [
        "A=np.arange(1,10).reshape((3,3))\n",
        "B=np.ones((3,3))\n",
        "\n",
        "# producto elemento a elemento\n",
        "print(f'Producto elemento a elemento: A*B=\\n{A*B}\\n')\n",
        "\n",
        "# producto matricial\n",
        "print(f'Producto matricial: A@B=\\n{A@B}\\n')\n",
        "\n",
        "# otro producto matricial, con la funcion .dot()\n",
        "print(f'Producto matricial: np.dot(A,B)=\\n{np.dot(A,B)}\\n')"
      ],
      "metadata": {
        "colab": {
          "base_uri": "https://localhost:8080/"
        },
        "id": "hw2LpmjHjO1M",
        "outputId": "657cd1fb-ab80-4eb1-cc57-21abc7bf7976"
      },
      "execution_count": null,
      "outputs": [
        {
          "output_type": "stream",
          "name": "stdout",
          "text": [
            "Producto elemento a elemento: A*B=\n",
            "[[1. 2. 3.]\n",
            " [4. 5. 6.]\n",
            " [7. 8. 9.]]\n",
            "\n",
            "Producto matricial: A@B=\n",
            "[[ 6.  6.  6.]\n",
            " [15. 15. 15.]\n",
            " [24. 24. 24.]]\n",
            "\n",
            "Producto matricial: np.dot(A,B)=\n",
            "[[ 6.  6.  6.]\n",
            " [15. 15. 15.]\n",
            " [24. 24. 24.]]\n",
            "\n"
          ]
        }
      ]
    },
    {
      "cell_type": "markdown",
      "source": [
        "Más ejemplos con los producto matriciales"
      ],
      "metadata": {
        "id": "bbr6ndICkQpU"
      }
    },
    {
      "cell_type": "code",
      "source": [
        "# recordemos que el producto matricial no es conmutativo\n",
        "print(f'A@B=\\n {A@B}\\n')\n",
        "\n",
        "print(f'B@A=\\n {B@A}\\n')"
      ],
      "metadata": {
        "colab": {
          "base_uri": "https://localhost:8080/"
        },
        "id": "BiwgiBDwkUBy",
        "outputId": "cc87ff3b-d86d-44b6-e167-337c8a8664cc"
      },
      "execution_count": null,
      "outputs": [
        {
          "output_type": "stream",
          "name": "stdout",
          "text": [
            "A@B=\n",
            " [[ 6.  6.  6.]\n",
            " [15. 15. 15.]\n",
            " [24. 24. 24.]]\n",
            "\n",
            "B@A=\n",
            " [[12. 15. 18.]\n",
            " [12. 15. 18.]\n",
            " [12. 15. 18.]]\n",
            "\n"
          ]
        }
      ]
    },
    {
      "cell_type": "code",
      "source": [
        "# tener en cuenta las dimensiones al momento de multiplicar matrices\n",
        "C=np.arange(1,13).reshape((4,3))\n",
        "D=np.arange(0,6).reshape((3,2))\n",
        "print(f'C=\\n {C} \\n')\n",
        "print(f'D=\\n {D} \\n')\n",
        "print(f'C@D=\\n {C@D} \\n')\n",
        "\n",
        "print(f'Shape C = {C.shape}')\n",
        "print(f'Shape D = {D.shape}')\n",
        "print(f'Shape C@D = {(C@D).shape}')"
      ],
      "metadata": {
        "colab": {
          "base_uri": "https://localhost:8080/"
        },
        "id": "JIOR-sr_mbEV",
        "outputId": "e6813b57-34d3-4580-ed64-8ee739c14467"
      },
      "execution_count": null,
      "outputs": [
        {
          "output_type": "stream",
          "name": "stdout",
          "text": [
            "C=\n",
            " [[ 1  2  3]\n",
            " [ 4  5  6]\n",
            " [ 7  8  9]\n",
            " [10 11 12]] \n",
            "\n",
            "D=\n",
            " [[0 1]\n",
            " [2 3]\n",
            " [4 5]] \n",
            "\n",
            "C@D=\n",
            " [[ 16  22]\n",
            " [ 34  49]\n",
            " [ 52  76]\n",
            " [ 70 103]] \n",
            "\n",
            "Shape C = (4, 3)\n",
            "Shape D = (3, 2)\n",
            "Shape C@D = (4, 2)\n"
          ]
        }
      ]
    },
    {
      "cell_type": "code",
      "source": [
        "# si queremos realizar D@C NumPy nos va devoler un error\n",
        "print(D@C)"
      ],
      "metadata": {
        "colab": {
          "base_uri": "https://localhost:8080/",
          "height": 183
        },
        "id": "XvexBy7nmx0F",
        "outputId": "ff2eceb6-9d5d-41cb-dabe-a9ff8b4b9f5b"
      },
      "execution_count": null,
      "outputs": [
        {
          "output_type": "error",
          "ename": "ValueError",
          "evalue": "ignored",
          "traceback": [
            "\u001b[0;31m---------------------------------------------------------------------------\u001b[0m",
            "\u001b[0;31mValueError\u001b[0m                                Traceback (most recent call last)",
            "\u001b[0;32m<ipython-input-21-ffc34a5e859a>\u001b[0m in \u001b[0;36m<module>\u001b[0;34m()\u001b[0m\n\u001b[1;32m      1\u001b[0m \u001b[0;31m# si queremos realizar D@C NumPy nos va devoler un error\u001b[0m\u001b[0;34m\u001b[0m\u001b[0;34m\u001b[0m\u001b[0;34m\u001b[0m\u001b[0m\n\u001b[0;32m----> 2\u001b[0;31m \u001b[0mprint\u001b[0m\u001b[0;34m(\u001b[0m\u001b[0mD\u001b[0m\u001b[0;34m@\u001b[0m\u001b[0mC\u001b[0m\u001b[0;34m)\u001b[0m\u001b[0;34m\u001b[0m\u001b[0;34m\u001b[0m\u001b[0m\n\u001b[0m",
            "\u001b[0;31mValueError\u001b[0m: matmul: Input operand 1 has a mismatch in its core dimension 0, with gufunc signature (n?,k),(k,m?)->(n?,m?) (size 4 is different from 2)"
          ]
        }
      ]
    },
    {
      "cell_type": "markdown",
      "source": [
        "### Ejemplo 1: \n",
        "(ejercicio 1 de la guía Aplciaciones de Álgebra Lineal) \n",
        "\n",
        "**Problema:** Una empresa estatal, además de pagar a su personal un salario extraordinario a fin de año, les da acciones de la compañía. En el año 2020 cada miembro del directorio recibió \\$ 100.000 y 50 acciones, el personal calificado recibió \\$ 200.000 y 30 acciones y el personal no calificado \\$ 100.000 y 10 acciones. Si son 10 los miembros del directorio, la planta calificada es de 30 personas y la no calificada de 45 ¿cuánto dinero y cuántas acciones se repartieron el año pasado?\n",
        "\n",
        "Planteando este problema de forma matricial, encontrar cuanto dinero y cuantas accines se repartieron es multiplicar la matriz de tamaño (2,3) con la primer fila con los valores de dinero y la segunda con las cantidades de acciones, por una matriz de tamaño (3,1) con las cantidades de cada tipo de empleado."
      ],
      "metadata": {
        "id": "vvuC-xPAT_XW"
      }
    },
    {
      "cell_type": "code",
      "source": [
        "# matríz de datos de dinero y acciones\n",
        "A = np.array([[100000,200000,100000],[50,30,10]])\n",
        "# matriz de cantidad de empleados\n",
        "b = np.array([[10],[30],[45]])\n",
        "# solución al problema dado\n",
        "S = A@b\n",
        "print(f'Cantidad de dinero entregrado: {S[0]}')\n",
        "print(f'Cantidad de accinones entregradas: {S[1]}')"
      ],
      "metadata": {
        "colab": {
          "base_uri": "https://localhost:8080/"
        },
        "id": "ri4G6dU1T-oS",
        "outputId": "05802a60-7be9-4062-f90e-d844830992fb"
      },
      "execution_count": null,
      "outputs": [
        {
          "output_type": "stream",
          "name": "stdout",
          "text": [
            "Cantidad de dinero entregrado: [11500000]\n",
            "Cantidad de accinones entregradas: [1850]\n"
          ]
        }
      ]
    },
    {
      "cell_type": "markdown",
      "source": [
        "##Normas, operaciones y otros números"
      ],
      "metadata": {
        "id": "tZOqrgbko4l8"
      }
    },
    {
      "cell_type": "markdown",
      "source": [
        "* Norma de vectores o matrices\n",
        "\n",
        "(Para más detalles pueden ver la documentación de esta rutina en https://numpy.org/doc/stable/reference/generated/numpy.linalg.norm.html#numpy.linalg.norm)"
      ],
      "metadata": {
        "id": "genGcfhdpoa1"
      }
    },
    {
      "cell_type": "code",
      "source": [
        "# norma 2 de un vector\n",
        "v = np.random.random((1,4))\n",
        "print(f'El vector es v={v}')\n",
        "print(f'La norma de v es: {np.linalg.norm(v)}')\n",
        "print('')\n",
        "# norma Frobenius de una matriz\n",
        "A = np.arange(-4,4).reshape((2,4))\n",
        "print(f'La matriz es \\nA=\\n{A}')\n",
        "print(f'La norma de A es: {np.linalg.norm(A)}')"
      ],
      "metadata": {
        "colab": {
          "base_uri": "https://localhost:8080/"
        },
        "id": "1JFuByKwQqsF",
        "outputId": "607769d9-55ab-47d7-c35e-a5aa33910e5e"
      },
      "execution_count": null,
      "outputs": [
        {
          "output_type": "stream",
          "name": "stdout",
          "text": [
            "El vector es v=[[0.29404841 0.58945508 0.44447059 0.64819705]]\n",
            "La norma de v es: 7.416198487095663\n",
            "\n",
            "La matriz es \n",
            "A=\n",
            "[[-4 -3 -2 -1]\n",
            " [ 0  1  2  3]]\n",
            "La norma de A es: 6.6332495807108\n"
          ]
        }
      ]
    },
    {
      "cell_type": "code",
      "source": [
        "# otras normas definidas para matrices o vectores\n",
        "\n",
        "# norma 1 : devuelve el maximo de la suma de los valores absolutos por columnas\n",
        "v = np.random.randn(1,4)\n",
        "print(f'El vector es v={v}')\n",
        "print(f'La norma 1 de v como array de dim (1,4) es: {np.linalg.norm(v,ord=1)}')\n",
        "print('')\n",
        "\n",
        "\n",
        "v = v.T\n",
        "print(f'El vector es v=\\n{v}')\n",
        "print(f'La norma 1 de v como array de dim (4,1) es: {np.linalg.norm(v,ord=1)}')\n",
        "print('')\n",
        "\n",
        "\n",
        "# otras normas que puede calcular NumPy cambiando el argumento ord son:\n",
        "# -2, -1, 0, 1, 2, np.inf, -np.inf, 'fro', 'nuc' \n",
        "# no todas están definidas para matrices y vectores o pueden cambiar su definición"
      ],
      "metadata": {
        "colab": {
          "base_uri": "https://localhost:8080/"
        },
        "id": "SURU3H-1eORX",
        "outputId": "f4139e40-b4c2-4c52-e4a3-e62aa4f86ab9"
      },
      "execution_count": 37,
      "outputs": [
        {
          "output_type": "stream",
          "name": "stdout",
          "text": [
            "El vector es v=[[-0.36883557  0.24504913 -0.30584848 -0.10208457]]\n",
            "La norma 1 de v como array de dim (1,4) es: 0.36883556663494327\n",
            "\n",
            "El vector es v=\n",
            "[[-0.36883557]\n",
            " [ 0.24504913]\n",
            " [-0.30584848]\n",
            " [-0.10208457]]\n",
            "La norma 1 de v como array de dim (4,1) es: 1.0218177514571765\n",
            "\n"
          ]
        }
      ]
    },
    {
      "cell_type": "markdown",
      "source": [
        "* Transpuesta de una matriz"
      ],
      "metadata": {
        "id": "HZASRWBjmxjF"
      }
    },
    {
      "cell_type": "code",
      "source": [
        "# tranpuesta de un array de 2 dimensiones\n",
        "A=np.arange(1,13).reshape((4,3))\n",
        "# matriz transpuesa de A usando el metodo .transpose()\n",
        "B=A.transpose()\n",
        "# matriz transpuesa de A la función .transpose()\n",
        "C=np.transpose(A)\n",
        "# matriz transpuesa de A usando el objeto de numpy ndarrya.T \n",
        "D=A.T\n",
        "\n",
        "print(f'A=\\n {A}\\n')\n",
        "print(f'B=\\n {B}\\n')\n",
        "print(f'C=\\n {C}\\n')\n",
        "print(f'D=\\n {D}\\n')"
      ],
      "metadata": {
        "colab": {
          "base_uri": "https://localhost:8080/"
        },
        "id": "b_wA3LtjYO6Y",
        "outputId": "200557f0-5130-477c-8a79-45c1cb83d2a4"
      },
      "execution_count": 8,
      "outputs": [
        {
          "output_type": "stream",
          "name": "stdout",
          "text": [
            "A=\n",
            " [[ 1  2  3]\n",
            " [ 4  5  6]\n",
            " [ 7  8  9]\n",
            " [10 11 12]]\n",
            "\n",
            "B=\n",
            " [[ 1  4  7 10]\n",
            " [ 2  5  8 11]\n",
            " [ 3  6  9 12]]\n",
            "\n",
            "C=\n",
            " [[ 1  4  7 10]\n",
            " [ 2  5  8 11]\n",
            " [ 3  6  9 12]]\n",
            "\n",
            "D=\n",
            " [[ 1  4  7 10]\n",
            " [ 2  5  8 11]\n",
            " [ 3  6  9 12]]\n",
            "\n"
          ]
        }
      ]
    },
    {
      "cell_type": "markdown",
      "source": [
        "* Rango de un array"
      ],
      "metadata": {
        "id": "zIG0rktYtN9z"
      }
    },
    {
      "cell_type": "code",
      "source": [
        "A = np.arange(1,17).reshape((4,4))\n",
        "print(f'A = \\n {A}\\n' )\n",
        "# calcular el rango de una matriz\n",
        "rango = np.linalg.matrix_rank(A)\n",
        "print(f'Rango de A = {rango}')"
      ],
      "metadata": {
        "colab": {
          "base_uri": "https://localhost:8080/"
        },
        "id": "pS6LpMh1YO3G",
        "outputId": "db1cbff5-9b02-4dcd-df2d-c0ce67a90b42"
      },
      "execution_count": null,
      "outputs": [
        {
          "output_type": "stream",
          "name": "stdout",
          "text": [
            "A = \n",
            " [[ 1  2  3  4]\n",
            " [ 5  6  7  8]\n",
            " [ 9 10 11 12]\n",
            " [13 14 15 16]]\n",
            "\n",
            "Rango de A = 2\n"
          ]
        }
      ]
    },
    {
      "cell_type": "markdown",
      "source": [
        "* Determinante de un array"
      ],
      "metadata": {
        "id": "L3GopnWTug-S"
      }
    },
    {
      "cell_type": "code",
      "source": [
        "A = np.random.randint(1,11,(4,4))\n",
        "print(f'A = \\n {A}\\n' )\n",
        "# calcular el determinante de una matriz\n",
        "det = np.linalg.det(A)\n",
        "print(f'Determiante de A = {det}')"
      ],
      "metadata": {
        "colab": {
          "base_uri": "https://localhost:8080/"
        },
        "id": "xcxj2i-9YO0H",
        "outputId": "4b7851cd-6435-441c-c3bb-1b155647612a"
      },
      "execution_count": null,
      "outputs": [
        {
          "output_type": "stream",
          "name": "stdout",
          "text": [
            "A = \n",
            " [[ 2  9  6  8]\n",
            " [ 2  8  8  7]\n",
            " [ 6  6  4  6]\n",
            " [ 4 10  2  2]]\n",
            "\n",
            "Determiante de A = -827.9999999999992\n"
          ]
        }
      ]
    },
    {
      "cell_type": "markdown",
      "source": [
        "## Resolver sistemas lineales e inversas de matrices"
      ],
      "metadata": {
        "id": "EvAXe3mHvcI_"
      }
    },
    {
      "cell_type": "markdown",
      "source": [
        "* Inversa de una matriz"
      ],
      "metadata": {
        "id": "BFluqNX8vpfE"
      }
    },
    {
      "cell_type": "code",
      "source": [
        "A = np.random.randint(1,11,(4,4))\n",
        "print(f'A = \\n {A}\\n' )\n",
        "# calcular la inversa de una matriz\n",
        "inv_A = np.linalg.inv(A)\n",
        "print(f'Inversa de A =\\n {inv_A}')"
      ],
      "metadata": {
        "colab": {
          "base_uri": "https://localhost:8080/"
        },
        "id": "ErmH1iKEYOwa",
        "outputId": "3c6ca5e3-2dc0-4a97-ff22-8a1915c3075a"
      },
      "execution_count": null,
      "outputs": [
        {
          "output_type": "stream",
          "name": "stdout",
          "text": [
            "A = \n",
            " [[ 1  5  5 10]\n",
            " [ 2  2  8 10]\n",
            " [ 6  4  5  5]\n",
            " [ 7  7  8  2]]\n",
            "\n",
            "Inversa de A =\n",
            " [[-0.09813084 -0.03504673  0.30373832 -0.09345794]\n",
            " [ 0.19781931 -0.16744548 -0.10436137  0.10903427]\n",
            " [-0.10280374  0.17757009 -0.20560748  0.14018692]\n",
            " [ 0.0623053  -0.00155763  0.12461059 -0.1152648 ]]\n"
          ]
        }
      ]
    },
    {
      "cell_type": "code",
      "source": [
        "# en caso de tener una matriz singular nos devolvería un error\n",
        "\n",
        "A = np.arange(1,17).reshape((4,4))\n",
        "print(f'A = \\n {A}\\n' )\n",
        "# calcular la inversa de una matriz\n",
        "inv_A = np.linalg.inv(A)\n",
        "print(f'Inversa de A =\\n {inv_A}')"
      ],
      "metadata": {
        "colab": {
          "base_uri": "https://localhost:8080/",
          "height": 502
        },
        "id": "nG_MKJpPYOta",
        "outputId": "e869eeab-e960-4fd2-8674-30a858843750"
      },
      "execution_count": null,
      "outputs": [
        {
          "output_type": "stream",
          "name": "stdout",
          "text": [
            "A = \n",
            " [[ 1  2  3  4]\n",
            " [ 5  6  7  8]\n",
            " [ 9 10 11 12]\n",
            " [13 14 15 16]]\n",
            "\n"
          ]
        },
        {
          "output_type": "error",
          "ename": "LinAlgError",
          "evalue": "ignored",
          "traceback": [
            "\u001b[0;31m---------------------------------------------------------------------------\u001b[0m",
            "\u001b[0;31mLinAlgError\u001b[0m                               Traceback (most recent call last)",
            "\u001b[0;32m<ipython-input-28-3c94af89f8b2>\u001b[0m in \u001b[0;36m<module>\u001b[0;34m()\u001b[0m\n\u001b[1;32m      4\u001b[0m \u001b[0mprint\u001b[0m\u001b[0;34m(\u001b[0m\u001b[0;34mf'A = \\n {A}\\n'\u001b[0m \u001b[0;34m)\u001b[0m\u001b[0;34m\u001b[0m\u001b[0;34m\u001b[0m\u001b[0m\n\u001b[1;32m      5\u001b[0m \u001b[0;31m# calcular la inversa de una matriz\u001b[0m\u001b[0;34m\u001b[0m\u001b[0;34m\u001b[0m\u001b[0;34m\u001b[0m\u001b[0m\n\u001b[0;32m----> 6\u001b[0;31m \u001b[0minv_A\u001b[0m \u001b[0;34m=\u001b[0m \u001b[0mnp\u001b[0m\u001b[0;34m.\u001b[0m\u001b[0mlinalg\u001b[0m\u001b[0;34m.\u001b[0m\u001b[0minv\u001b[0m\u001b[0;34m(\u001b[0m\u001b[0mA\u001b[0m\u001b[0;34m)\u001b[0m\u001b[0;34m\u001b[0m\u001b[0;34m\u001b[0m\u001b[0m\n\u001b[0m\u001b[1;32m      7\u001b[0m \u001b[0mprint\u001b[0m\u001b[0;34m(\u001b[0m\u001b[0;34mf'Inversa de A =\\n {inv_A}'\u001b[0m\u001b[0;34m)\u001b[0m\u001b[0;34m\u001b[0m\u001b[0;34m\u001b[0m\u001b[0m\n",
            "\u001b[0;32m<__array_function__ internals>\u001b[0m in \u001b[0;36minv\u001b[0;34m(*args, **kwargs)\u001b[0m\n",
            "\u001b[0;32m/usr/local/lib/python3.7/dist-packages/numpy/linalg/linalg.py\u001b[0m in \u001b[0;36minv\u001b[0;34m(a)\u001b[0m\n\u001b[1;32m    543\u001b[0m     \u001b[0msignature\u001b[0m \u001b[0;34m=\u001b[0m \u001b[0;34m'D->D'\u001b[0m \u001b[0;32mif\u001b[0m \u001b[0misComplexType\u001b[0m\u001b[0;34m(\u001b[0m\u001b[0mt\u001b[0m\u001b[0;34m)\u001b[0m \u001b[0;32melse\u001b[0m \u001b[0;34m'd->d'\u001b[0m\u001b[0;34m\u001b[0m\u001b[0;34m\u001b[0m\u001b[0m\n\u001b[1;32m    544\u001b[0m     \u001b[0mextobj\u001b[0m \u001b[0;34m=\u001b[0m \u001b[0mget_linalg_error_extobj\u001b[0m\u001b[0;34m(\u001b[0m\u001b[0m_raise_linalgerror_singular\u001b[0m\u001b[0;34m)\u001b[0m\u001b[0;34m\u001b[0m\u001b[0;34m\u001b[0m\u001b[0m\n\u001b[0;32m--> 545\u001b[0;31m     \u001b[0mainv\u001b[0m \u001b[0;34m=\u001b[0m \u001b[0m_umath_linalg\u001b[0m\u001b[0;34m.\u001b[0m\u001b[0minv\u001b[0m\u001b[0;34m(\u001b[0m\u001b[0ma\u001b[0m\u001b[0;34m,\u001b[0m \u001b[0msignature\u001b[0m\u001b[0;34m=\u001b[0m\u001b[0msignature\u001b[0m\u001b[0;34m,\u001b[0m \u001b[0mextobj\u001b[0m\u001b[0;34m=\u001b[0m\u001b[0mextobj\u001b[0m\u001b[0;34m)\u001b[0m\u001b[0;34m\u001b[0m\u001b[0;34m\u001b[0m\u001b[0m\n\u001b[0m\u001b[1;32m    546\u001b[0m     \u001b[0;32mreturn\u001b[0m \u001b[0mwrap\u001b[0m\u001b[0;34m(\u001b[0m\u001b[0mainv\u001b[0m\u001b[0;34m.\u001b[0m\u001b[0mastype\u001b[0m\u001b[0;34m(\u001b[0m\u001b[0mresult_t\u001b[0m\u001b[0;34m,\u001b[0m \u001b[0mcopy\u001b[0m\u001b[0;34m=\u001b[0m\u001b[0;32mFalse\u001b[0m\u001b[0;34m)\u001b[0m\u001b[0;34m)\u001b[0m\u001b[0;34m\u001b[0m\u001b[0;34m\u001b[0m\u001b[0m\n\u001b[1;32m    547\u001b[0m \u001b[0;34m\u001b[0m\u001b[0m\n",
            "\u001b[0;32m/usr/local/lib/python3.7/dist-packages/numpy/linalg/linalg.py\u001b[0m in \u001b[0;36m_raise_linalgerror_singular\u001b[0;34m(err, flag)\u001b[0m\n\u001b[1;32m     86\u001b[0m \u001b[0;34m\u001b[0m\u001b[0m\n\u001b[1;32m     87\u001b[0m \u001b[0;32mdef\u001b[0m \u001b[0m_raise_linalgerror_singular\u001b[0m\u001b[0;34m(\u001b[0m\u001b[0merr\u001b[0m\u001b[0;34m,\u001b[0m \u001b[0mflag\u001b[0m\u001b[0;34m)\u001b[0m\u001b[0;34m:\u001b[0m\u001b[0;34m\u001b[0m\u001b[0;34m\u001b[0m\u001b[0m\n\u001b[0;32m---> 88\u001b[0;31m     \u001b[0;32mraise\u001b[0m \u001b[0mLinAlgError\u001b[0m\u001b[0;34m(\u001b[0m\u001b[0;34m\"Singular matrix\"\u001b[0m\u001b[0;34m)\u001b[0m\u001b[0;34m\u001b[0m\u001b[0;34m\u001b[0m\u001b[0m\n\u001b[0m\u001b[1;32m     89\u001b[0m \u001b[0;34m\u001b[0m\u001b[0m\n\u001b[1;32m     90\u001b[0m \u001b[0;32mdef\u001b[0m \u001b[0m_raise_linalgerror_nonposdef\u001b[0m\u001b[0;34m(\u001b[0m\u001b[0merr\u001b[0m\u001b[0;34m,\u001b[0m \u001b[0mflag\u001b[0m\u001b[0;34m)\u001b[0m\u001b[0;34m:\u001b[0m\u001b[0;34m\u001b[0m\u001b[0;34m\u001b[0m\u001b[0m\n",
            "\u001b[0;31mLinAlgError\u001b[0m: Singular matrix"
          ]
        }
      ]
    },
    {
      "cell_type": "markdown",
      "source": [
        "*  Resolución de un sistema lineal $Ax=b$ con $A$ una matriz cuadrada no singular.\n",
        "\n",
        "Aunque sabemos que en estas condiciones se podría encontrar la solución a este sistema de ecuaciones como\n",
        "$$ x = A^{-1} \\cdot b$$\n",
        "computacionalmente se recomienda utilizar la rutina [```np.linalg.solve(A,b)```](https://numpy.org/doc/stable/reference/generated/numpy.linalg.solve.html)"
      ],
      "metadata": {
        "id": "ud7DDKZAwm8u"
      }
    },
    {
      "cell_type": "markdown",
      "source": [
        "### Ejemplo 2:\n",
        "Supongamos que queremos resolver el sistema de ecuaciones lineales\n",
        "\n",
        "  $x+y=2$\n",
        "\n",
        "  $5x+6y=9$ \n",
        "\n",
        "Gráficamente podríamos buscar la solución como el punto de intersección de ambas rectas. Veamos esto a continuación.  "
      ],
      "metadata": {
        "id": "mxmPVOAlZs3Q"
      }
    },
    {
      "cell_type": "code",
      "source": [
        "import matplotlib.pyplot as plt\n",
        "# graficando el sistema de ecuaciones.\n",
        "x_vals = np.linspace(0, 5) # creamos una lista de puntos entre 0 y 5\n",
        "plt.plot(x_vals, 2-x_vals) # plot de la recta y = 2 - x\n",
        "plt.plot(x_vals, (9-5*x_vals)/6) # plot de la recta y = (9 - 5x)/6\n",
        "plt.grid(True)\n",
        "plt.show()"
      ],
      "metadata": {
        "colab": {
          "base_uri": "https://localhost:8080/",
          "height": 265
        },
        "id": "HbUbs2g4aZQ9",
        "outputId": "ce9728e0-c3e0-48a1-e0a3-66c961bd21db"
      },
      "execution_count": 17,
      "outputs": [
        {
          "output_type": "display_data",
          "data": {
            "text/plain": [
              "<Figure size 432x288 with 1 Axes>"
            ],
            "image/png": "[encoded data removed]"
          },
          "metadata": {
            "needs_background": "light"
          }
        }
      ]
    },
    {
      "cell_type": "markdown",
      "source": [
        "Del gráfico se puede ver que la solución del sistema es el punto $(x,y)=(3,-1)$.\n",
        "\n",
        "Veamos ahora la solución del sistema mediante las herramientas con las que cuenta NumPy."
      ],
      "metadata": {
        "id": "T7Yjfs2YcX5H"
      }
    },
    {
      "cell_type": "code",
      "source": [
        "# Resolver el sistema de ecuaciones\n",
        "# x0 + 2 * x1 = 1 \n",
        "# 3 * x0 + 5 * x1 = 2\n",
        "\n",
        "A = np.array([[1, 1], [5, 6]])\n",
        "b = np.array([2, 9])\n",
        "\n",
        "# Resolviendolo usando la rutina .linalg.solve()\n",
        "x = np.linalg.solve(A, b)\n",
        "\n",
        "print(f'A=\\n {A}')\n",
        "print(f'b=\\n {b}')\n",
        "print(f'La solución es: x=\\n {x}')\n",
        "\n",
        "# Resolviendolo usando la matriz inversa\n",
        "print('\\n')\n",
        "y = np.linalg.inv(A).dot(b)\n",
        "print(f'La solución es: x=\\n {y}')\n"
      ],
      "metadata": {
        "colab": {
          "base_uri": "https://localhost:8080/"
        },
        "id": "NhJ7ZBvlYOqV",
        "outputId": "4317ceb1-3d16-4bad-c566-cc8c052995ab"
      },
      "execution_count": 19,
      "outputs": [
        {
          "output_type": "stream",
          "name": "stdout",
          "text": [
            "A=\n",
            " [[1 1]\n",
            " [5 6]]\n",
            "b=\n",
            " [2 9]\n",
            "La solución es: x=\n",
            " [ 3. -1.]\n",
            "\n",
            "\n",
            "La solución es: x=\n",
            " [ 3. -1.]\n"
          ]
        }
      ]
    },
    {
      "cell_type": "markdown",
      "source": [
        " * Evaluar la solución"
      ],
      "metadata": {
        "id": "m_J_nW7fE8Vw"
      }
    },
    {
      "cell_type": "code",
      "source": [
        "# ¿se cumple que A@x = b?\n",
        "A@x==b"
      ],
      "metadata": {
        "colab": {
          "base_uri": "https://localhost:8080/"
        },
        "id": "QTCC2ToGOtXC",
        "outputId": "c7150a6f-006a-4b0e-b771-9c0419e184aa"
      },
      "execution_count": 20,
      "outputs": [
        {
          "output_type": "execute_result",
          "data": {
            "text/plain": [
              "array([False,  True])"
            ]
          },
          "metadata": {},
          "execution_count": 20
        }
      ]
    },
    {
      "cell_type": "markdown",
      "source": [
        "Dado a que las computadoras trabajan con álgebra finita, puede existir un error de redondeo, por eso tal vez es demasiado estricto comparar si los valores son exactamente iguales. Para eso podemos usar la función [```np.allclose(a,b)```](https://numpy.org/doc/stable/reference/generated/numpy.allclose.html) que devuelve verdadero si dos arrays son iguales elementos a elementos dentro de una tolerancia"
      ],
      "metadata": {
        "id": "QTSqfyukPN-m"
      }
    },
    {
      "cell_type": "code",
      "source": [
        "np.allclose(np.dot(A, x), b)"
      ],
      "metadata": {
        "colab": {
          "base_uri": "https://localhost:8080/"
        },
        "id": "KiWUMlqJPIvw",
        "outputId": "554d31a5-9640-42bc-b023-22e13e74e882"
      },
      "execution_count": 21,
      "outputs": [
        {
          "output_type": "execute_result",
          "data": {
            "text/plain": [
              "True"
            ]
          },
          "metadata": {},
          "execution_count": 21
        }
      ]
    },
    {
      "cell_type": "markdown",
      "source": [
        "*  Resolución de un sistema lineal $Ax=b$ cuando es sobredeterminado.\n",
        "\n",
        "Cuando el sistema es sobredeterminado NumPy cuenta con la rutina [```np.linalg.solve(A,b)```](https://numpy.org/doc/stable/reference/generated/numpy.linalg.lstsq.html) que resuelve el problema de cuadrados mínimos para resolver el sistema de ecuaciones."
      ],
      "metadata": {
        "id": "JfNZtBZpjMwK"
      }
    },
    {
      "cell_type": "code",
      "source": [
        "A = np.array([[1, 2, 1],\n",
        "              [1,1,2],\n",
        "              [2,1,1],\n",
        "              [1,1,1]])\n",
        "b = np.array([4,3,5,4])\n"
      ],
      "metadata": {
        "id": "4JOB1DfHlQgs"
      },
      "execution_count": 50,
      "outputs": []
    },
    {
      "cell_type": "code",
      "source": [
        "x = np.linalg.lstsq(A,b.T,rcond=None)\n",
        "\n",
        "# solución del problema de cuadrados mínimos\n",
        "print(f'Sloución:\\n {x[0]}\\n')\n"
      ],
      "metadata": {
        "colab": {
          "base_uri": "https://localhost:8080/"
        },
        "id": "GFBjN6calphB",
        "outputId": "9db24dde-d4ba-4220-eb2f-da31d05b2040"
      },
      "execution_count": 64,
      "outputs": [
        {
          "output_type": "stream",
          "name": "stdout",
          "text": [
            "Sloución:\n",
            " [2.05263158 1.05263158 0.05263158]\n",
            "\n"
          ]
        }
      ]
    },
    {
      "cell_type": "code",
      "source": [
        "# comprobación \n",
        "A.dot(x[0])"
      ],
      "metadata": {
        "colab": {
          "base_uri": "https://localhost:8080/"
        },
        "id": "B2VCJGVlmKWo",
        "outputId": "a30379e5-d837-4f96-bd05-795b60049578"
      },
      "execution_count": 65,
      "outputs": [
        {
          "output_type": "execute_result",
          "data": {
            "text/plain": [
              "array([4.21052632, 3.21052632, 5.21052632, 3.15789474])"
            ]
          },
          "metadata": {},
          "execution_count": 65
        }
      ]
    },
    {
      "cell_type": "markdown",
      "source": [
        "## Autovalores y autovectores de matrices"
      ],
      "metadata": {
        "id": "7DCXua6bBChG"
      }
    },
    {
      "cell_type": "markdown",
      "source": [
        "Para calcular los autovalores y autovectores de una matriz cuadrada NumPy cuenta con la rutina [```linalg.eig(a)```](https://numpy.org/doc/stable/reference/generated/numpy.linalg.eig.html) la cual como primer argumento de salida devuelve un array unidemnsional con los autovalores y como segundo argumento un array de dimensión dos con los autovalores normalizados"
      ],
      "metadata": {
        "id": "ggu3PCPoBT8k"
      }
    },
    {
      "cell_type": "code",
      "source": [
        "A = np.array([[1,2],[3,2]])\n",
        "w, v = np.linalg.eig(A)\n",
        "print(f'Los autovalores de A son: \\n {w}')\n",
        "print('')\n",
        "print(f'Los autovectores de A son: \\n {v}')\n"
      ],
      "metadata": {
        "colab": {
          "base_uri": "https://localhost:8080/"
        },
        "id": "zmyBPMqeYOnE",
        "outputId": "84ad0347-e2d6-44a3-d043-b2db12d38b07"
      },
      "execution_count": null,
      "outputs": [
        {
          "output_type": "stream",
          "name": "stdout",
          "text": [
            "Los autovalores de A son: \n",
            " [-1.  4.]\n",
            "\n",
            "Los autovectores de A son: \n",
            " [[-0.70710678 -0.5547002 ]\n",
            " [ 0.70710678 -0.83205029]]\n"
          ]
        }
      ]
    },
    {
      "cell_type": "markdown",
      "source": [
        "Como de forma téorica, en caso de tener la cantidad de autovalores iguales a la cantidad de columnas o filas de la matriz ```A```, se sabe que la matriz ```A``` diagonaliza, debería cumplise que ```inv(v) @ A @ v = diag(w)```. Posiblemente no sea una matríz con 0 afuera de la diagonal pero si de valores muy próximos a 0 debido a errores numéricos"
      ],
      "metadata": {
        "id": "lfJURhZjUGKs"
      }
    },
    {
      "cell_type": "code",
      "source": [
        "D = (np.linalg.inv(v)@A)@v\n",
        "print(f'Matriz diagonal inv(v)@A@v = \\n {D}')"
      ],
      "metadata": {
        "colab": {
          "base_uri": "https://localhost:8080/"
        },
        "id": "kvcq4O9gUF0N",
        "outputId": "85fa7773-1201-4e61-e243-180d501811a7"
      },
      "execution_count": null,
      "outputs": [
        {
          "output_type": "stream",
          "name": "stdout",
          "text": [
            "Matriz diagonal inv(v)@A@v = \n",
            " [[-1.00000000e+00 -7.21644966e-16]\n",
            " [ 0.00000000e+00  4.00000000e+00]]\n"
          ]
        }
      ]
    },
    {
      "cell_type": "markdown",
      "source": [
        "Aquí también se debe tener cuidado con los errores de redondeo en la visualización"
      ],
      "metadata": {
        "id": "6UVdAviBQInx"
      }
    },
    {
      "cell_type": "code",
      "source": [
        "# elementos de la diagonal de una matriz\n",
        "a11 = 1 + 1e-9\n",
        "a22 = 1 - 1e-9\n",
        "\n",
        "print(f'Valores de a11 y a22 : {a11}, {a22}')\n",
        "\n",
        "# matriz A diagonal\n",
        "A = np.diag([a11, a22])\n",
        "# cualculo de autovaloes y autovectores\n",
        "w, v = np.linalg.eig(A)\n",
        "\n",
        "print(f'Los autovalores calculados son son: {w}')\n",
        "\n",
        "print(f'El primer autovalor es:  {w[0]}')\n"
      ],
      "metadata": {
        "colab": {
          "base_uri": "https://localhost:8080/"
        },
        "id": "QpNiokmsYOhu",
        "outputId": "c554bcc3-4312-4c70-c4d7-720a8db27412"
      },
      "execution_count": null,
      "outputs": [
        {
          "output_type": "stream",
          "name": "stdout",
          "text": [
            "Valores de a11 y a22 : 1.000000001, 0.999999999\n",
            "Los autovalores calculados son son: [1. 1.]\n",
            "El primer autovalor es:  1.000000001\n"
          ]
        }
      ]
    },
    {
      "cell_type": "markdown",
      "source": [
        "# Ejercicios:\n",
        "\n",
        "* Resolver los ejercicio (2), (3), (4), (8) y (14) de la guia **Ejercicios de Álgebra Lineal** usando NumPy.\n",
        "* Plantear y resolver con NumPy los problemas (3) y (4) de la guía **Aplicaciones de Álgebra Lineal**\n",
        "\n",
        "\n",
        "\n",
        "\n",
        "\n"
      ],
      "metadata": {
        "id": "BbkKT7mPi2hv"
      }
    }
  ]
}