{
  "nbformat": 4,
  "nbformat_minor": 0,
  "metadata": {
    "colab": {
      "name": "Álgebra_Lineal_con_Python.ipynb",
      "provenance": [],
      "collapsed_sections": [
        "wIxRhBd1R_kL",
        "d_vVAtSESJw0",
        "cJXkf3ViWW1H"
      ]
    },
    "kernelspec": {
      "name": "python3",
      "display_name": "Python 3"
    },
    "language_info": {
      "name": "python"
    }
  },
  "cells": [
    {
      "cell_type": "markdown",
      "source": [
        "### NOTA: Para un mejor seguimiento de esta clase, es recomendable abrirla desde Colab, siguiendo el botón de abajo\n",
        "\n",
        "\n",
        "<a href=\"https://colab.research.google.com/drive/1CJpLmZAv5uEnPjqoZoL1FsF9VMXsBKbp\" target=\"_parent\"><img src=\"https://colab.research.google.com/assets/colab-badge.svg\" alt=\"Open In Colab\"/></a>"
      ],
      "metadata": {
        "id": "YtbDHqYoyXiC"
      }
    },
    {
      "cell_type": "markdown",
      "source": [
        "# Comienzos con **NumPy**\n",
        "\n",
        "![numpylogo.svg](https://numpy.org/doc/stable/_static/numpylogo.svg)\n",
        "\n",
        "NumPy (Numerical Python) es una librería de Python que es usada en casi cualquier área de ciencias o ingenierías. La NumPy es el estándar para el trabajo con datos numéricos y es utilizado en muchas de las librerías de ciencia de datos como Pandas, SciPy, Matplotlib, Scikit-learn y muchas otras.\n",
        "\n",
        "La librería NumPy tiene un objeto principal: **ndarray** (array n-dimensional). Este objeto es un array multidimensional que contiene elementos del mismo tipo y tamaño, con métodos para operar eficientemente con ellos.\n",
        "\n",
        "Pueden encontrar más recursos educativos sobre el uso de esta librería en https://numpy.org/learn/ y más información sobre los objetos, funciones y módulos que contiene NumPy en https://numpy.org/doc/stable/reference/.\n",
        "\n"
      ],
      "metadata": {
        "id": "e879CKMkPtX7"
      }
    },
    {
      "cell_type": "code",
      "source": [
        "import numpy as np"
      ],
      "metadata": {
        "id": "9-cwOiJPTz8_"
      },
      "execution_count": null,
      "outputs": []
    },
    {
      "cell_type": "markdown",
      "source": [
        "# Lo Básico\n",
        "\n",
        "Como ya dijimos, el objeto principal de NumPy son los arreglos multidimensionales homogeneos. Esto es una tabla (generalmente de números) indexada por números enteros no negativos.\n",
        "\n",
        "Estos arreglos (array) de NumPy son llamados [```ndarray```](https://numpy.org/doc/stable/reference/arrays.html) y algunos de sus principales atributos son:\n",
        "\n",
        "* ndim: devuelve la dimensión del array, es decir, número de ejes del array\n",
        "* shape: devuelve tupla con la forma del array, es decir, el tamaño del array en cada dimensión\n",
        "* size: devuelve el tamaño del array, es decir, la cantidad de elementos\n",
        "* dtype: cada ndarray tiene asociado un tipo de dato\n",
        "\n"
      ],
      "metadata": {
        "id": "R-CN9GUaT9QX"
      }
    },
    {
      "cell_type": "code",
      "source": [
        "a = np.array([[1,2,3],[4,5,6]])\n",
        "\n",
        "print(\"El array definido es:\")\n",
        "print(a)\n",
        "print(\"------\")\n",
        "print(f\"Dimensión: {a.ndim}\")\n",
        "print(f\"Shape: {a.shape}\")\n",
        "print(f\"Tamaño: {a.size}\")\n",
        "print(f\"Tipo de datos del array: {a.dtype}\")"
      ],
      "metadata": {
        "id": "BOYbbsT2V4L6"
      },
      "execution_count": null,
      "outputs": []
    },
    {
      "cell_type": "markdown",
      "source": [
        "## Creación de Arrays"
      ],
      "metadata": {
        "id": "IKhaD8mvW6v4"
      }
    },
    {
      "cell_type": "markdown",
      "source": [
        "Hay varias maneras de crear los arrays en NumPy. \n",
        "\n",
        "La forma más básica es pasar como argumento una lista de listas:"
      ],
      "metadata": {
        "id": "r2EH5Sc3XEjP"
      }
    },
    {
      "cell_type": "code",
      "source": [
        "x = np.array([[1, 2, 3], [4, 5, 6]])\n",
        "print(x)"
      ],
      "metadata": {
        "id": "nl_qkNlvW2K1"
      },
      "execution_count": null,
      "outputs": []
    },
    {
      "cell_type": "markdown",
      "source": [
        "Se puede inicializar como una tuplas de tuplas:\n",
        "\n"
      ],
      "metadata": {
        "id": "b2mkPgUCXtpf"
      }
    },
    {
      "cell_type": "code",
      "source": [
        "y = np.array(((1, 2, 3),(4, 5, 6)))\n",
        "print(y)"
      ],
      "metadata": {
        "id": "JaMU6UNuXtYL"
      },
      "execution_count": null,
      "outputs": []
    },
    {
      "cell_type": "markdown",
      "source": [
        "Se puede inicializar como una lista de tuplas:\n",
        "\n"
      ],
      "metadata": {
        "id": "926L9frtX6xj"
      }
    },
    {
      "cell_type": "code",
      "source": [
        "z = np.array([(1, 2, 3), (4, 5, 6)])\n",
        "print(z)"
      ],
      "metadata": {
        "id": "lfhl1tO3W2Iu"
      },
      "execution_count": null,
      "outputs": []
    },
    {
      "cell_type": "markdown",
      "source": [
        "Los tipos de datos del array resultantes se deducen del tipo de los elementos dados.\n",
        "Podemos forzar a que inicialice la lista con un tipo de datos específico:\n"
      ],
      "metadata": {
        "id": "vh5mP4UPYI2x"
      }
    },
    {
      "cell_type": "code",
      "source": [
        "# sin definir nada, en el siguiente ejemplo resulta un array de enteros\n",
        "x = np.array([[1, 2, 3], [4, 5, 6]])\n",
        "print(x)\n",
        "print(x.dtype)\n",
        "print('------')\n",
        "\n",
        "# se puede forzar para cambiar el tipo de dato a algouno específico \n",
        "x = np.array([[1, 2, 3], [4, 5, 6]], dtype=float)\n",
        "print(x)\n",
        "print(x.dtype)\n",
        "print('------')\n",
        "# o se puede definir el primer elemento como decimal\n",
        "x = np.array([[1., 2, 3], [4, 5, 6]])\n",
        "print(x)\n",
        "print(x.dtype)"
      ],
      "metadata": {
        "id": "uTy2nTAUW2GS"
      },
      "execution_count": null,
      "outputs": []
    },
    {
      "cell_type": "markdown",
      "source": [
        "## Numpy Arrays con Contenido Inicial\n",
        "Muchas veces se desea crear un array que se desconocen los valores, pero se conoce su tamaño. Para esto existen funciones para crear arrays con marcadores de forma eficiente.\n",
        "\n",
        "Tener en cuenta que siempre se inicializan como float!"
      ],
      "metadata": {
        "id": "Bywd5f-oZkEA"
      }
    },
    {
      "cell_type": "code",
      "source": [
        "# array de ceros\n",
        "np.zeros((3,3))"
      ],
      "metadata": {
        "id": "kcGQO6dMW2EG"
      },
      "execution_count": null,
      "outputs": []
    },
    {
      "cell_type": "code",
      "source": [
        "# array de unos\n",
        "np.ones((3,3))"
      ],
      "metadata": {
        "id": "7QcICoc3W2Br"
      },
      "execution_count": null,
      "outputs": []
    },
    {
      "cell_type": "code",
      "source": [
        "# matriz identidad\n",
        "np.eye(3)"
      ],
      "metadata": {
        "id": "Y4Y9kRMVYh1v"
      },
      "execution_count": null,
      "outputs": []
    },
    {
      "cell_type": "code",
      "source": [
        "# matriz cuadrada con un array unidemnsional como diagonal principal\n",
        "np.diag([1,2,3])"
      ],
      "metadata": {
        "id": "cEHUstyQLbCz"
      },
      "execution_count": null,
      "outputs": []
    },
    {
      "cell_type": "code",
      "source": [
        "# creación de un array de 1 dimension con secuencia de datos:\n",
        "np.array(np.arange(1,10))\n"
      ],
      "metadata": {
        "id": "bnW1aYyGW1-8"
      },
      "execution_count": null,
      "outputs": []
    },
    {
      "cell_type": "code",
      "source": [
        "# creación de un array multidimensional con secuencia de datos:\n",
        "print(\"Array de una dimensión:\")\n",
        "print(np.arange(1,13))\n",
        "print(f'size: {np.arange(1,13).size}')\n",
        "print(f'shape: {np.arange(1,13).shape}')\n",
        "print(\"\")\n",
        "print(\"Array de dos dimensiones:\")\n",
        "print(np.arange(1,13).reshape(3,4))\n",
        "print(f'size: {np.arange(1,13).reshape(3,4).size}')\n",
        "print(f'shape: {np.arange(1,13).reshape(3,4).shape}')\n",
        "\n",
        "print(\"\")\n",
        "print(\"Array de tres dimensiones:\")\n",
        "print(np.arange(1,13).reshape(3,2,2))\n",
        "print(f'size: {np.arange(1,13).reshape(3,2,2).size}')\n",
        "print(f'shape: {np.arange(1,13).reshape(3,2,2).shape}')\n"
      ],
      "metadata": {
        "id": "PdXtLtN6W18M"
      },
      "execution_count": null,
      "outputs": []
    },
    {
      "cell_type": "code",
      "source": [
        "# crear un array usando linspace \n",
        "np.linspace(0,10,3) # trés numeros de 0 a 10"
      ],
      "metadata": {
        "id": "CcWs0ZxrW15Q"
      },
      "execution_count": null,
      "outputs": []
    },
    {
      "cell_type": "code",
      "source": [
        "# crear un array con valores random\n",
        "np.random.random((2,4)) # array con valores pseudo aleatorios con distribución uniforme en [0,1)"
      ],
      "metadata": {
        "id": "-uM7eUrJeU9c"
      },
      "execution_count": null,
      "outputs": []
    },
    {
      "cell_type": "markdown",
      "source": [
        "# Operaciones Básicas"
      ],
      "metadata": {
        "id": "T6n46txCgRaI"
      }
    },
    {
      "cell_type": "markdown",
      "source": [
        "## Operaciones Aritméticas\n",
        "* Suma, resta o multiplicación por un escalar:"
      ],
      "metadata": {
        "id": "5kCywsp2hEbH"
      }
    },
    {
      "cell_type": "code",
      "source": [
        "A = np.arange(1,9).reshape(2,4)\n",
        "print(f'Array orginal: A =\\n {A}')\n",
        "print('')\n",
        "\n",
        "print(f'Suma por un escalar: A+2 =\\n {A+2}')\n",
        "print('')\n",
        "\n",
        "print(f'Suma por un escalar: A-1.5 =\\n {A-1.5}')\n",
        "print('')\n",
        "\n",
        "print(f'multiplicar por un escalar: 3*A =\\n {3*A}')\n",
        "print('')\n",
        "\n"
      ],
      "metadata": {
        "id": "ojqWSaqEeb0z"
      },
      "execution_count": null,
      "outputs": []
    },
    {
      "cell_type": "markdown",
      "source": [
        "## Funciones Universales: ufunc\n",
        "Es una función que opera elemento a elemento. Esto quiere decir que actúa individualmente sobre cada elemento y genera un resultado. Para más información revisar documentación en Numpy: https://numpy.org/doc/stable/reference/ufuncs.html"
      ],
      "metadata": {
        "id": "wIxRhBd1R_kL"
      }
    },
    {
      "cell_type": "code",
      "source": [
        "a = np.arange(1, 5)\n",
        "print(a)\n",
        "print(f\"Raíz cuadrada: {np.sqrt(a)} \")\n",
        "print(f\"Logaritmo: {np.log(a)} \")\n",
        "print(f\"Seno: {np.sin(a)} \")\n",
        "print(f\"Coseno: {np.cos(a)} \")"
      ],
      "metadata": {
        "id": "RpO2BWR2SDC3"
      },
      "execution_count": null,
      "outputs": []
    },
    {
      "cell_type": "markdown",
      "source": [
        "## Funciones de Agregación\n",
        "Las funciones de agregación realizan una operación sobre un conjunto de valores y producen un solo resultado."
      ],
      "metadata": {
        "id": "d_vVAtSESJw0"
      }
    },
    {
      "cell_type": "code",
      "source": [
        "a = np.array([3.3, 4.5, 1.2, 5.7, 0.3])\n",
        "print(f\"Array: {a}\")\n",
        "print(f\"Suma de todos los elementos: {a.sum()}\")\n",
        "print(f\"El mínimo valor: {a.min()}\")\n",
        "print(f\"El máximo valor: {a.max()}\")\n",
        "print(f\"La media: {a.mean()}\")\n",
        "print(f\"La desviación estándar: {a.std()}\")"
      ],
      "metadata": {
        "id": "EJV7S5hsSO39"
      },
      "execution_count": null,
      "outputs": []
    },
    {
      "cell_type": "markdown",
      "source": [
        "## Indexación y subarrays"
      ],
      "metadata": {
        "id": "cJXkf3ViWW1H"
      }
    },
    {
      "cell_type": "markdown",
      "source": [
        "* Arrays de una dimensión\n"
      ],
      "metadata": {
        "id": "jCpERAIbWr2b"
      }
    },
    {
      "cell_type": "code",
      "source": [
        "a = np.arange(0, 6)\n",
        "print(f'Todo el array: {a}')\n",
        "print(f'El tercer elemento del array a[02]: {a[2]}')\n",
        "print(f'Del segundo al quinto elemento del array: {a[1:5]}')\n",
        "print(f'Del cuarto elemento hasta el final del array: {a[3::]}')\n",
        "\n"
      ],
      "metadata": {
        "id": "eO7gsmDdWkED"
      },
      "execution_count": null,
      "outputs": []
    },
    {
      "cell_type": "markdown",
      "source": [
        "* Arrays de dos dimensiones"
      ],
      "metadata": {
        "id": "96HD-lLHWyp_"
      }
    },
    {
      "cell_type": "code",
      "source": [
        "A = np.arange(10, 19).reshape((3, 3))\n",
        "print(f'Todo el array:\\n A=\\n {A}')\n",
        "print(f\"Solo la primera fila: \\n A[0,:]= {A[0,:]}\")\n",
        "print(f\"Solo la primera columna: \\n A[:,0]= {A[:,0]}\")\n",
        "print(f\"Sub matrix: \\n A[0:2, 0:2]=\\n {A[0:2, 0:2]}\")\n",
        "print(f\"Sub matrix sin índices contiguos pasamos lista de índices: \\nA[[0,2], 0:2]=\\n  {A[[0,2], 0:2]}\")"
      ],
      "metadata": {
        "id": "zOKzCcLxW02l"
      },
      "execution_count": null,
      "outputs": []
    },
    {
      "cell_type": "markdown",
      "source": [
        "# Álgebra Lineal en Python y el submodulo linalg de Numpy\n",
        "\n",
        "En NumPy tenemos el submodulo  [```linalg```](https://numpy.org/doc/stable/reference/routines.linalg.html) con varias funciones para el trabajo de álgebra lineal con arrays."
      ],
      "metadata": {
        "id": "Ya8vTNloSSPI"
      }
    },
    {
      "cell_type": "markdown",
      "source": [
        "## Producto matricial y el operador ```@```"
      ],
      "metadata": {
        "id": "gO3M90pBi45v"
      }
    },
    {
      "cell_type": "code",
      "source": [
        "A=np.arange(1,10).reshape((3,3))\n",
        "B=np.ones((3,3))\n",
        "\n",
        "# producto elemento a elemento\n",
        "print(f'Producto elemento a elemento: A*B=\\n{A*B}\\n')\n",
        "\n",
        "# producto matricial\n",
        "print(f'Producto matricial: A@B=\\n{A@B}\\n')\n",
        "\n",
        "# otro producto matricial, con la funcion .dot()\n",
        "print(f'Producto matricial: np.dot(A,B)=\\n{np.dot(A,B)}\\n')"
      ],
      "metadata": {
        "id": "hw2LpmjHjO1M"
      },
      "execution_count": null,
      "outputs": []
    },
    {
      "cell_type": "markdown",
      "source": [
        "Más ejemplos con los producto matriciales"
      ],
      "metadata": {
        "id": "bbr6ndICkQpU"
      }
    },
    {
      "cell_type": "code",
      "source": [
        "# recordemos que el producto matricial no es conmutativo\n",
        "print(f'A@B=\\n {A@B}\\n')\n",
        "\n",
        "print(f'B@A=\\n {B@A}\\n')"
      ],
      "metadata": {
        "id": "BiwgiBDwkUBy"
      },
      "execution_count": null,
      "outputs": []
    },
    {
      "cell_type": "code",
      "source": [
        "# tener en cuenta las dimensiones al momento de multiplicar matrices\n",
        "C=np.arange(1,13).reshape((4,3))\n",
        "D=np.arange(0,6).reshape((3,2))\n",
        "print(f'C=\\n {C} \\n')\n",
        "print(f'D=\\n {D} \\n')\n",
        "print(f'C@D=\\n {C@D} \\n')\n",
        "\n",
        "print(f'Shape C = {C.shape}')\n",
        "print(f'Shape D = {D.shape}')\n",
        "print(f'Shape C@D = {(C@D).shape}')"
      ],
      "metadata": {
        "id": "JIOR-sr_mbEV"
      },
      "execution_count": null,
      "outputs": []
    },
    {
      "cell_type": "code",
      "source": [
        "# si queremos realizar D@C NumPy nos va devoler un error\n",
        "print(D@C)"
      ],
      "metadata": {
        "id": "XvexBy7nmx0F"
      },
      "execution_count": null,
      "outputs": []
    },
    {
      "cell_type": "markdown",
      "source": [
        "### Ejemplo 1: \n",
        "(ejercicio 1 de la guía Aplciaciones de Álgebra Lineal) \n",
        "\n",
        "**Problema:** Una empresa estatal, además de pagar a su personal un salario extraordinario a fin de año, les da acciones de la compañía. En el año 2020 cada miembro del directorio recibió \\$ 100.000 y 50 acciones, el personal calificado recibió \\$ 200.000 y 30 acciones y el personal no calificado \\$ 100.000 y 10 acciones. Si son 10 los miembros del directorio, la planta calificada es de 30 personas y la no calificada de 45 ¿cuánto dinero y cuántas acciones se repartieron el año pasado?\n",
        "\n",
        "Planteando este problema de forma matricial, encontrar cuanto dinero y cuantas accines se repartieron es multiplicar la matriz de tamaño (2,3) con la primer fila con los valores de dinero y la segunda con las cantidades de acciones, por una matriz de tamaño (3,1) con las cantidades de cada tipo de empleado."
      ],
      "metadata": {
        "id": "vvuC-xPAT_XW"
      }
    },
    {
      "cell_type": "code",
      "source": [
        "# matríz de datos de dinero y acciones\n",
        "A = np.array([[100000,200000,100000],[50,30,10]])\n",
        "# matriz de cantidad de empleados\n",
        "b = np.array([[10],[30],[45]])\n",
        "# solución al problema dado\n",
        "S = A@b\n",
        "print(f'Cantidad de dinero entregrado: {S[0]}')\n",
        "print(f'Cantidad de accinones entregradas: {S[1]}')"
      ],
      "metadata": {
        "id": "ri4G6dU1T-oS"
      },
      "execution_count": null,
      "outputs": []
    },
    {
      "cell_type": "markdown",
      "source": [
        "##Normas, operaciones y otros números"
      ],
      "metadata": {
        "id": "tZOqrgbko4l8"
      }
    },
    {
      "cell_type": "markdown",
      "source": [
        "* Norma de vectores o matrices\n",
        "\n",
        "(Para más detalles pueden ver la documentación de esta rutina en https://numpy.org/doc/stable/reference/generated/numpy.linalg.norm.html#numpy.linalg.norm)"
      ],
      "metadata": {
        "id": "genGcfhdpoa1"
      }
    },
    {
      "cell_type": "code",
      "source": [
        "# norma 2 de un vector\n",
        "v = np.random.random((1,4))\n",
        "print(f'El vector es v={v}')\n",
        "print(f'La norma de v es: {np.linalg.norm(v)}')\n",
        "print('')\n",
        "# norma Frobenius de una matriz\n",
        "A = np.arange(-4,4).reshape((2,4))\n",
        "print(f'La matriz es \\nA=\\n{A}')\n",
        "print(f'La norma de A es: {np.linalg.norm(A)}')"
      ],
      "metadata": {
        "id": "1JFuByKwQqsF"
      },
      "execution_count": null,
      "outputs": []
    },
    {
      "cell_type": "code",
      "source": [
        "# otras normas definidas para matrices o vectores\n",
        "\n",
        "# norma 1 : devuelve el maximo de la suma de los valores absolutos por columnas\n",
        "v = np.random.randn(1,4)\n",
        "print(f'El vector es v={v}')\n",
        "print(f'La norma 1 de v como array de dim (1,4) es: {np.linalg.norm(v,ord=1)}')\n",
        "print('')\n",
        "\n",
        "\n",
        "v = v.T\n",
        "print(f'El vector es v=\\n{v}')\n",
        "print(f'La norma 1 de v como array de dim (4,1) es: {np.linalg.norm(v,ord=1)}')\n",
        "print('')\n",
        "\n",
        "\n",
        "# otras normas que puede calcular NumPy cambiando el argumento ord son:\n",
        "# -2, -1, 0, 1, 2, np.inf, -np.inf, 'fro', 'nuc' \n",
        "# no todas están definidas para matrices y vectores o pueden cambiar su definición"
      ],
      "metadata": {
        "id": "SURU3H-1eORX"
      },
      "execution_count": null,
      "outputs": []
    },
    {
      "cell_type": "markdown",
      "source": [
        "* Transpuesta de una matriz"
      ],
      "metadata": {
        "id": "HZASRWBjmxjF"
      }
    },
    {
      "cell_type": "code",
      "source": [
        "# tranpuesta de un array de 2 dimensiones\n",
        "A=np.arange(1,13).reshape((4,3))\n",
        "# matriz transpuesa de A usando el metodo .transpose()\n",
        "B=A.transpose()\n",
        "# matriz transpuesa de A la función .transpose()\n",
        "C=np.transpose(A)\n",
        "# matriz transpuesa de A usando el objeto de numpy ndarrya.T \n",
        "D=A.T\n",
        "\n",
        "print(f'A=\\n {A}\\n')\n",
        "print(f'B=\\n {B}\\n')\n",
        "print(f'C=\\n {C}\\n')\n",
        "print(f'D=\\n {D}\\n')"
      ],
      "metadata": {
        "id": "b_wA3LtjYO6Y"
      },
      "execution_count": null,
      "outputs": []
    },
    {
      "cell_type": "markdown",
      "source": [
        "* Rango de un array"
      ],
      "metadata": {
        "id": "zIG0rktYtN9z"
      }
    },
    {
      "cell_type": "code",
      "source": [
        "A = np.arange(1,17).reshape((4,4))\n",
        "print(f'A = \\n {A}\\n' )\n",
        "# calcular el rango de una matriz\n",
        "rango = np.linalg.matrix_rank(A)\n",
        "print(f'Rango de A = {rango}')"
      ],
      "metadata": {
        "id": "pS6LpMh1YO3G"
      },
      "execution_count": null,
      "outputs": []
    },
    {
      "cell_type": "markdown",
      "source": [
        "* Determinante de un array"
      ],
      "metadata": {
        "id": "L3GopnWTug-S"
      }
    },
    {
      "cell_type": "code",
      "source": [
        "A = np.random.randint(1,11,(4,4))\n",
        "print(f'A = \\n {A}\\n' )\n",
        "# calcular el determinante de una matriz\n",
        "det = np.linalg.det(A)\n",
        "print(f'Determiante de A = {det}')"
      ],
      "metadata": {
        "id": "xcxj2i-9YO0H"
      },
      "execution_count": null,
      "outputs": []
    },
    {
      "cell_type": "markdown",
      "source": [
        "* Traza de un array"
      ],
      "metadata": {
        "id": "P7y5GPcvBMz6"
      }
    },
    {
      "cell_type": "code",
      "source": [
        "A = np.random.randint(1,11,(4,4))\n",
        "print(f'A = \\n {A}\\n' )\n",
        "# calcular la traza de una matriz usando .trace\n",
        "tr = np.trace(A)\n",
        "print(f'Traza de A = {tr}')\n",
        "\n",
        "# usando suma de los elementos de la diagonal\n",
        "tr2 = np.diag(A).sum()\n",
        "print(f'Traza de A = {tr2}')\n",
        "\n",
        "# otro ejemplo cuando la matriz no es cuadrada\n",
        "B = np.random.randint(1,11,(4,2))\n",
        "print(f'B = \\n {B}\\n' )\n",
        "# calcular la traza de una matriz\n",
        "tr = np.trace(B)\n",
        "print(f'Traza de B = {tr}')"
      ],
      "metadata": {
        "id": "HLXThdzyBWaV"
      },
      "execution_count": null,
      "outputs": []
    },
    {
      "cell_type": "markdown",
      "source": [
        "## Resolver sistemas lineales e inversas de matrices"
      ],
      "metadata": {
        "id": "EvAXe3mHvcI_"
      }
    },
    {
      "cell_type": "markdown",
      "source": [
        "* Inversa de una matriz"
      ],
      "metadata": {
        "id": "BFluqNX8vpfE"
      }
    },
    {
      "cell_type": "code",
      "source": [
        "A = np.random.randint(1,11,(4,4))\n",
        "print(f'A = \\n {A}\\n' )\n",
        "# calcular la inversa de una matriz\n",
        "inv_A = np.linalg.inv(A)\n",
        "print(f'Inversa de A =\\n {inv_A}')"
      ],
      "metadata": {
        "id": "ErmH1iKEYOwa"
      },
      "execution_count": null,
      "outputs": []
    },
    {
      "cell_type": "code",
      "source": [
        "# en caso de tener una matriz singular nos devolvería un error\n",
        "\n",
        "A = np.arange(1,17).reshape((4,4))\n",
        "print(f'A = \\n {A}\\n' )\n",
        "# calcular la inversa de una matriz\n",
        "inv_A = np.linalg.inv(A)\n",
        "print(f'Inversa de A =\\n {inv_A}')"
      ],
      "metadata": {
        "id": "nG_MKJpPYOta"
      },
      "execution_count": null,
      "outputs": []
    },
    {
      "cell_type": "markdown",
      "source": [
        "*  Resolución de un sistema lineal $Ax=b$ con $A$ una matriz cuadrada no singular.\n",
        "\n",
        "Aunque sabemos que en estas condiciones se podría encontrar la solución a este sistema de ecuaciones como\n",
        "$$ x = A^{-1} \\cdot b$$\n",
        "computacionalmente se recomienda utilizar la rutina [```np.linalg.solve(A,b)```](https://numpy.org/doc/stable/reference/generated/numpy.linalg.solve.html)"
      ],
      "metadata": {
        "id": "ud7DDKZAwm8u"
      }
    },
    {
      "cell_type": "markdown",
      "source": [
        "### Ejemplo 2:\n",
        "Supongamos que queremos resolver el sistema de ecuaciones lineales\n",
        "\n",
        "  $x+y=2$\n",
        "\n",
        "  $5x+6y=9$ \n",
        "\n",
        "Gráficamente podríamos buscar la solución como el punto de intersección de ambas rectas. Veamos esto a continuación.  "
      ],
      "metadata": {
        "id": "mxmPVOAlZs3Q"
      }
    },
    {
      "cell_type": "code",
      "source": [
        "import matplotlib.pyplot as plt\n",
        "# graficando el sistema de ecuaciones.\n",
        "x_vals = np.linspace(0, 5) # creamos una lista de puntos entre 0 y 5\n",
        "plt.plot(x_vals, 2-x_vals) # plot de la recta y = 2 - x\n",
        "plt.plot(x_vals, (9-5*x_vals)/6) # plot de la recta y = (9 - 5x)/6\n",
        "plt.grid(True)\n",
        "plt.show()"
      ],
      "metadata": {
        "id": "HbUbs2g4aZQ9"
      },
      "execution_count": null,
      "outputs": []
    },
    {
      "cell_type": "markdown",
      "source": [
        "Del gráfico se puede ver que la solución del sistema es el punto $(x,y)=(3,-1)$.\n",
        "\n",
        "Veamos ahora la solución del sistema mediante las herramientas con las que cuenta NumPy."
      ],
      "metadata": {
        "id": "T7Yjfs2YcX5H"
      }
    },
    {
      "cell_type": "code",
      "source": [
        "# Resolver el sistema de ecuaciones\n",
        "# x0 + 2 * x1 = 1 \n",
        "# 3 * x0 + 5 * x1 = 2\n",
        "\n",
        "A = np.array([[1, 1], [5, 6]])\n",
        "b = np.array([2, 9])\n",
        "\n",
        "# Resolviendolo usando la rutina .linalg.solve()\n",
        "x = np.linalg.solve(A, b)\n",
        "\n",
        "print(f'A=\\n {A}')\n",
        "print(f'b=\\n {b}')\n",
        "print(f'La solución es: x=\\n {x}')\n",
        "\n",
        "# Resolviendolo usando la matriz inversa\n",
        "print('\\n')\n",
        "y = np.linalg.inv(A).dot(b)\n",
        "print(f'La solución es: x=\\n {y}')\n"
      ],
      "metadata": {
        "id": "NhJ7ZBvlYOqV"
      },
      "execution_count": null,
      "outputs": []
    },
    {
      "cell_type": "markdown",
      "source": [
        " * Evaluar la solución"
      ],
      "metadata": {
        "id": "m_J_nW7fE8Vw"
      }
    },
    {
      "cell_type": "code",
      "source": [
        "# ¿se cumple que A@x = b?\n",
        "A@x==b"
      ],
      "metadata": {
        "id": "QTCC2ToGOtXC"
      },
      "execution_count": null,
      "outputs": []
    },
    {
      "cell_type": "markdown",
      "source": [
        "Dado a que las computadoras trabajan con álgebra finita, puede existir un error de redondeo, por eso tal vez es demasiado estricto comparar si los valores son exactamente iguales. Para eso podemos usar la función [```np.allclose(a,b)```](https://numpy.org/doc/stable/reference/generated/numpy.allclose.html) que devuelve verdadero si dos arrays son iguales elementos a elementos dentro de una tolerancia"
      ],
      "metadata": {
        "id": "QTSqfyukPN-m"
      }
    },
    {
      "cell_type": "code",
      "source": [
        "np.allclose(np.dot(A, x), b)"
      ],
      "metadata": {
        "id": "KiWUMlqJPIvw"
      },
      "execution_count": null,
      "outputs": []
    },
    {
      "cell_type": "markdown",
      "source": [
        "*  Resolución de un sistema lineal $Ax=b$ cuando es sobredeterminado.\n",
        "\n",
        "Cuando el sistema es sobredeterminado NumPy cuenta con la rutina [```np.linalg.solve(A,b)```](https://numpy.org/doc/stable/reference/generated/numpy.linalg.lstsq.html) que resuelve el problema de cuadrados mínimos para resolver el sistema de ecuaciones."
      ],
      "metadata": {
        "id": "JfNZtBZpjMwK"
      }
    },
    {
      "cell_type": "code",
      "source": [
        "A = np.array([[1, 2, 1],\n",
        "              [1,1,2],\n",
        "              [2,1,1],\n",
        "              [1,1,1]])\n",
        "b = np.array([4,3,5,4])\n"
      ],
      "metadata": {
        "id": "4JOB1DfHlQgs"
      },
      "execution_count": null,
      "outputs": []
    },
    {
      "cell_type": "code",
      "source": [
        "x = np.linalg.lstsq(A,b.T,rcond=None)\n",
        "\n",
        "# solución del problema de cuadrados mínimos\n",
        "print(f'Solución:\\n {x[0]}\\n')\n"
      ],
      "metadata": {
        "id": "GFBjN6calphB"
      },
      "execution_count": null,
      "outputs": []
    },
    {
      "cell_type": "code",
      "source": [
        "# comprobación \n",
        "A.dot(x[0])"
      ],
      "metadata": {
        "id": "B2VCJGVlmKWo"
      },
      "execution_count": null,
      "outputs": []
    },
    {
      "cell_type": "markdown",
      "source": [
        "## Autovalores y autovectores de matrices"
      ],
      "metadata": {
        "id": "7DCXua6bBChG"
      }
    },
    {
      "cell_type": "markdown",
      "source": [
        "Para calcular los autovalores y autovectores de una matriz cuadrada NumPy cuenta con la rutina [```linalg.eig(a)```](https://numpy.org/doc/stable/reference/generated/numpy.linalg.eig.html) la cual como primer argumento de salida devuelve un array unidemnsional con los autovalores y como segundo argumento un array de dimensión dos con los autovalores normalizados"
      ],
      "metadata": {
        "id": "ggu3PCPoBT8k"
      }
    },
    {
      "cell_type": "code",
      "source": [
        "A = np.array([[1,2],[3,2]])\n",
        "w, v = np.linalg.eig(A)\n",
        "print(f'Los autovalores de A son: \\n {w}')\n",
        "print('')\n",
        "print(f'Los autovectores de A son: \\n {v}')\n"
      ],
      "metadata": {
        "id": "zmyBPMqeYOnE"
      },
      "execution_count": null,
      "outputs": []
    },
    {
      "cell_type": "markdown",
      "source": [
        "Como de forma téorica, en caso de tener la cantidad de autovalores iguales a la cantidad de columnas o filas de la matriz ```A```, se sabe que la matriz ```A``` diagonaliza, debería cumplise que ```inv(v) @ A @ v = diag(w)```. Posiblemente no sea una matríz con 0 afuera de la diagonal pero si de valores muy próximos a 0 debido a errores numéricos"
      ],
      "metadata": {
        "id": "lfJURhZjUGKs"
      }
    },
    {
      "cell_type": "code",
      "source": [
        "D = (np.linalg.inv(v)@A)@v\n",
        "print(f'Matriz diagonal inv(v)@A@v = \\n {D}')"
      ],
      "metadata": {
        "id": "kvcq4O9gUF0N"
      },
      "execution_count": null,
      "outputs": []
    },
    {
      "cell_type": "markdown",
      "source": [
        "Aquí también se debe tener cuidado con los errores de redondeo en la visualización"
      ],
      "metadata": {
        "id": "6UVdAviBQInx"
      }
    },
    {
      "cell_type": "code",
      "source": [
        "# elementos de la diagonal de una matriz\n",
        "a11 = 1 + 1e-9\n",
        "a22 = 1 - 1e-9\n",
        "\n",
        "print(f'Valores de a11 y a22 : {a11}, {a22}')\n",
        "\n",
        "# matriz A diagonal\n",
        "A = np.diag([a11, a22])\n",
        "# cualculo de autovaloes y autovectores\n",
        "w, v = np.linalg.eig(A)\n",
        "\n",
        "print(f'Los autovalores calculados son son: {w}')\n",
        "\n",
        "print(f'El primer autovalor es:  {w[0]}')\n"
      ],
      "metadata": {
        "id": "QpNiokmsYOhu"
      },
      "execution_count": null,
      "outputs": []
    },
    {
      "cell_type": "markdown",
      "source": [
        "# Problema visto en clase\n",
        "\n",
        "![problema.jpg](data:image/jpeg;base64,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)"
      ],
      "metadata": {
        "id": "-AvKYPNtPWIn"
      }
    },
    {
      "cell_type": "code",
      "source": [
        "# matriz de la transformación\n",
        "T = np.array([[0.3,0.4],[0.7,0.6]])\n",
        "# porcentajes de mercado actual\n",
        "x0 = np.array([0.6,0.4])\n",
        "\n",
        "# creo una lista para ver porcentajes en el avance de años\n",
        "resultado = [] \n",
        "\n",
        "for i in range(5):\n",
        "  xn = np.dot(T,x0)\n",
        "  resultado.append(xn)\n",
        "  x0 = xn\n",
        "\n",
        "print('Porcentajes de los mercados durante los próximos 5 años')\n",
        "print(resultado)\n",
        "print('')\n",
        "print('Porcentajes de los mercados al cabo de  5 años')\n",
        "print(resultado[-1])"
      ],
      "metadata": {
        "id": "NNhV-aJwPTyg"
      },
      "execution_count": null,
      "outputs": []
    },
    {
      "cell_type": "markdown",
      "source": [
        "# Ejercicios:\n",
        "\n",
        "* Resolver los ejercicio (2), (3), (4), (8) y (14) de la guia **Ejercicios de Álgebra Lineal** usando NumPy.\n",
        "* Plantear y resolver con NumPy los problemas (3) y (4) de la guía **Aplicaciones de Álgebra Lineal**\n",
        "\n",
        "\n",
        "\n",
        "\n",
        "\n"
      ],
      "metadata": {
        "id": "BbkKT7mPi2hv"
      }
    }
  ]
}